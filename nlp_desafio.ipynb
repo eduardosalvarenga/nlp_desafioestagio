{
  "cells": [
    {
      "cell_type": "markdown",
      "metadata": {
        "id": "view-in-github",
        "colab_type": "text"
      },
      "source": [
        "<a href=\"https://colab.research.google.com/github/eduardosalvarenga/nlp_desafioestagio/blob/main/nlp_desafio.ipynb\" target=\"_parent\"><img src=\"https://colab.research.google.com/assets/colab-badge.svg\" alt=\"Open In Colab\"/></a>"
      ]
    },
    {
      "cell_type": "markdown",
      "metadata": {
        "id": "utSZFryqiVWj"
      },
      "source": [
        "### Nome: Eduardo da Silva Alvarenga\n",
        "\n",
        "**Objetivo**: Treinar um modelo de machine learning para dizer qual a categoria do produto, baseado nas informações da base de dados.<br>\n",
        "**Feito com**: Pandas, TensorFlow, MatplotLib, Numpy, SkLearn<br>\n",
        "**Modelo Final**: Feed-Forward neural network (Dense model) - Usando de Processamento de Linguagem Natural\n",
        "\n",
        "Notebook separado em:\n",
        "\n",
        "*   Análise dos Dados\n",
        "*   Pré-processamento de Dados\n",
        "*   Vetorização de Texto\n",
        "*   Construção de Modelos\n",
        "*   Comparação entre modelos\n",
        "*   Análise do Modelo Final\n",
        "*   Considerações Finais\n",
        "\n",
        "\n"
      ]
    },
    {
      "cell_type": "code",
      "execution_count": null,
      "metadata": {
        "id": "z1AVO15bEcOI"
      },
      "outputs": [],
      "source": [
        "import pandas as pd\n",
        "import tensorflow as tf\n",
        "import matplotlib.pyplot as plt\n",
        "import numpy as np\n",
        "import random"
      ]
    },
    {
      "cell_type": "code",
      "execution_count": null,
      "metadata": {
        "colab": {
          "base_uri": "https://localhost:8080/"
        },
        "id": "a-ELyg4NUUaF",
        "outputId": "48502f7a-e27e-49d4-d60f-90340a2c3642"
      },
      "outputs": [
        {
          "name": "stdout",
          "output_type": "stream",
          "text": [
            "GPU 0: Tesla T4 (UUID: GPU-163a1fe7-1a06-4c51-6491-ea428d670107)\n"
          ]
        }
      ],
      "source": [
        "# Por se tratar de um modelo de redes neurais, é recomendado estar utilizando placas gráficas,\n",
        "# o código abaixo indica se o Google Colab está com a GPU ligada no ambiente de execução.\n",
        "!nvidia-smi -L"
      ]
    },
    {
      "cell_type": "code",
      "execution_count": null,
      "metadata": {
        "id": "_4LsDVetRKsK"
      },
      "outputs": [],
      "source": [
        "url = 'https://raw.githubusercontent.com/eduardosalvarenga/dados/main/solvimm-desafio.tsv'\n",
        "df = pd.read_table(url)"
      ]
    },
    {
      "cell_type": "code",
      "execution_count": null,
      "metadata": {
        "colab": {
          "base_uri": "https://localhost:8080/",
          "height": 478
        },
        "id": "BjTOMQhzog_-",
        "outputId": "612730c5-80ec-4b48-cf32-d605c6ddd361"
      },
      "outputs": [
        {
          "data": {
            "text/html": [
              "\n",
              "  <div id=\"df-cf74a14f-dd74-4323-94cf-a53ed94d0d7f\">\n",
              "    <div class=\"colab-df-container\">\n",
              "      <div>\n",
              "<style scoped>\n",
              "    .dataframe tbody tr th:only-of-type {\n",
              "        vertical-align: middle;\n",
              "    }\n",
              "\n",
              "    .dataframe tbody tr th {\n",
              "        vertical-align: top;\n",
              "    }\n",
              "\n",
              "    .dataframe thead th {\n",
              "        text-align: right;\n",
              "    }\n",
              "</style>\n",
              "<table border=\"1\" class=\"dataframe\">\n",
              "  <thead>\n",
              "    <tr style=\"text-align: right;\">\n",
              "      <th></th>\n",
              "      <th>Unnamed: 0</th>\n",
              "      <th>marketplace</th>\n",
              "      <th>customer_id</th>\n",
              "      <th>review_id</th>\n",
              "      <th>product_id</th>\n",
              "      <th>product_parent</th>\n",
              "      <th>product_title</th>\n",
              "      <th>star_rating</th>\n",
              "      <th>helpful_votes</th>\n",
              "      <th>total_votes</th>\n",
              "      <th>vine</th>\n",
              "      <th>verified_purchase</th>\n",
              "      <th>review_headline</th>\n",
              "      <th>review_body</th>\n",
              "      <th>review_date</th>\n",
              "      <th>product_category</th>\n",
              "    </tr>\n",
              "  </thead>\n",
              "  <tbody>\n",
              "    <tr>\n",
              "      <th>0</th>\n",
              "      <td>762868</td>\n",
              "      <td>UK</td>\n",
              "      <td>29723892</td>\n",
              "      <td>R3VNENIATVV8QE</td>\n",
              "      <td>B00NOPQU2K</td>\n",
              "      <td>627793267</td>\n",
              "      <td>The Girl on the Train</td>\n",
              "      <td>5</td>\n",
              "      <td>0</td>\n",
              "      <td>1</td>\n",
              "      <td>N</td>\n",
              "      <td>N</td>\n",
              "      <td>Gripping you right where it matters</td>\n",
              "      <td>I know to say a story is &amp;#34;gripping&amp;#34; is...</td>\n",
              "      <td>2015-04-27</td>\n",
              "      <td>Digital_Ebook_Purchase</td>\n",
              "    </tr>\n",
              "    <tr>\n",
              "      <th>1</th>\n",
              "      <td>1284183</td>\n",
              "      <td>UK</td>\n",
              "      <td>41072087</td>\n",
              "      <td>R2U3LV67N99770</td>\n",
              "      <td>B0013F2LSK</td>\n",
              "      <td>13214624</td>\n",
              "      <td>11</td>\n",
              "      <td>5</td>\n",
              "      <td>2</td>\n",
              "      <td>5</td>\n",
              "      <td>N</td>\n",
              "      <td>Y</td>\n",
              "      <td>The Best of Me</td>\n",
              "      <td>This album is totally fantastic, a great mix o...</td>\n",
              "      <td>2008-03-18</td>\n",
              "      <td>Music</td>\n",
              "    </tr>\n",
              "    <tr>\n",
              "      <th>2</th>\n",
              "      <td>1599315</td>\n",
              "      <td>UK</td>\n",
              "      <td>49938094</td>\n",
              "      <td>R3RO94POCHNI9V</td>\n",
              "      <td>B005CVWWJY</td>\n",
              "      <td>769273676</td>\n",
              "      <td>Ready Player One</td>\n",
              "      <td>5</td>\n",
              "      <td>0</td>\n",
              "      <td>0</td>\n",
              "      <td>N</td>\n",
              "      <td>Y</td>\n",
              "      <td>superb</td>\n",
              "      <td>Enjoyed every second of this book.  It took me...</td>\n",
              "      <td>2014-08-28</td>\n",
              "      <td>Digital_Ebook_Purchase</td>\n",
              "    </tr>\n",
              "    <tr>\n",
              "      <th>3</th>\n",
              "      <td>204782</td>\n",
              "      <td>UK</td>\n",
              "      <td>14398213</td>\n",
              "      <td>R3S2BB5SBWBC1</td>\n",
              "      <td>B00008AWV3</td>\n",
              "      <td>841759677</td>\n",
              "      <td>The Four Feathers [DVD] [1939]</td>\n",
              "      <td>5</td>\n",
              "      <td>1</td>\n",
              "      <td>1</td>\n",
              "      <td>N</td>\n",
              "      <td>Y</td>\n",
              "      <td>Sweeping, authentic historic drama</td>\n",
              "      <td>I loved the historic scenes---the English coun...</td>\n",
              "      <td>2013-12-27</td>\n",
              "      <td>Video DVD</td>\n",
              "    </tr>\n",
              "    <tr>\n",
              "      <th>4</th>\n",
              "      <td>352938</td>\n",
              "      <td>UK</td>\n",
              "      <td>20140500</td>\n",
              "      <td>R27E2PNXJSWJIN</td>\n",
              "      <td>B00FAXJHCY</td>\n",
              "      <td>803172158</td>\n",
              "      <td>The Martian</td>\n",
              "      <td>4</td>\n",
              "      <td>0</td>\n",
              "      <td>0</td>\n",
              "      <td>N</td>\n",
              "      <td>Y</td>\n",
              "      <td>... a few pages to get through it but a good b...</td>\n",
              "      <td>May have skipped a few pages to get through it...</td>\n",
              "      <td>2015-06-06</td>\n",
              "      <td>Digital_Ebook_Purchase</td>\n",
              "    </tr>\n",
              "  </tbody>\n",
              "</table>\n",
              "</div>\n",
              "      <button class=\"colab-df-convert\" onclick=\"convertToInteractive('df-cf74a14f-dd74-4323-94cf-a53ed94d0d7f')\"\n",
              "              title=\"Convert this dataframe to an interactive table.\"\n",
              "              style=\"display:none;\">\n",
              "        \n",
              "  <svg xmlns=\"http://www.w3.org/2000/svg\" height=\"24px\"viewBox=\"0 0 24 24\"\n",
              "       width=\"24px\">\n",
              "    <path d=\"M0 0h24v24H0V0z\" fill=\"none\"/>\n",
              "    <path d=\"M18.56 5.44l.94 2.06.94-2.06 2.06-.94-2.06-.94-.94-2.06-.94 2.06-2.06.94zm-11 1L8.5 8.5l.94-2.06 2.06-.94-2.06-.94L8.5 2.5l-.94 2.06-2.06.94zm10 10l.94 2.06.94-2.06 2.06-.94-2.06-.94-.94-2.06-.94 2.06-2.06.94z\"/><path d=\"M17.41 7.96l-1.37-1.37c-.4-.4-.92-.59-1.43-.59-.52 0-1.04.2-1.43.59L10.3 9.45l-7.72 7.72c-.78.78-.78 2.05 0 2.83L4 21.41c.39.39.9.59 1.41.59.51 0 1.02-.2 1.41-.59l7.78-7.78 2.81-2.81c.8-.78.8-2.07 0-2.86zM5.41 20L4 18.59l7.72-7.72 1.47 1.35L5.41 20z\"/>\n",
              "  </svg>\n",
              "      </button>\n",
              "      \n",
              "  <style>\n",
              "    .colab-df-container {\n",
              "      display:flex;\n",
              "      flex-wrap:wrap;\n",
              "      gap: 12px;\n",
              "    }\n",
              "\n",
              "    .colab-df-convert {\n",
              "      background-color: #E8F0FE;\n",
              "      border: none;\n",
              "      border-radius: 50%;\n",
              "      cursor: pointer;\n",
              "      display: none;\n",
              "      fill: #1967D2;\n",
              "      height: 32px;\n",
              "      padding: 0 0 0 0;\n",
              "      width: 32px;\n",
              "    }\n",
              "\n",
              "    .colab-df-convert:hover {\n",
              "      background-color: #E2EBFA;\n",
              "      box-shadow: 0px 1px 2px rgba(60, 64, 67, 0.3), 0px 1px 3px 1px rgba(60, 64, 67, 0.15);\n",
              "      fill: #174EA6;\n",
              "    }\n",
              "\n",
              "    [theme=dark] .colab-df-convert {\n",
              "      background-color: #3B4455;\n",
              "      fill: #D2E3FC;\n",
              "    }\n",
              "\n",
              "    [theme=dark] .colab-df-convert:hover {\n",
              "      background-color: #434B5C;\n",
              "      box-shadow: 0px 1px 3px 1px rgba(0, 0, 0, 0.15);\n",
              "      filter: drop-shadow(0px 1px 2px rgba(0, 0, 0, 0.3));\n",
              "      fill: #FFFFFF;\n",
              "    }\n",
              "  </style>\n",
              "\n",
              "      <script>\n",
              "        const buttonEl =\n",
              "          document.querySelector('#df-cf74a14f-dd74-4323-94cf-a53ed94d0d7f button.colab-df-convert');\n",
              "        buttonEl.style.display =\n",
              "          google.colab.kernel.accessAllowed ? 'block' : 'none';\n",
              "\n",
              "        async function convertToInteractive(key) {\n",
              "          const element = document.querySelector('#df-cf74a14f-dd74-4323-94cf-a53ed94d0d7f');\n",
              "          const dataTable =\n",
              "            await google.colab.kernel.invokeFunction('convertToInteractive',\n",
              "                                                     [key], {});\n",
              "          if (!dataTable) return;\n",
              "\n",
              "          const docLinkHtml = 'Like what you see? Visit the ' +\n",
              "            '<a target=\"_blank\" href=https://colab.research.google.com/notebooks/data_table.ipynb>data table notebook</a>'\n",
              "            + ' to learn more about interactive tables.';\n",
              "          element.innerHTML = '';\n",
              "          dataTable['output_type'] = 'display_data';\n",
              "          await google.colab.output.renderOutput(dataTable, element);\n",
              "          const docLink = document.createElement('div');\n",
              "          docLink.innerHTML = docLinkHtml;\n",
              "          element.appendChild(docLink);\n",
              "        }\n",
              "      </script>\n",
              "    </div>\n",
              "  </div>\n",
              "  "
            ],
            "text/plain": [
              "   Unnamed: 0 marketplace  customer_id       review_id  product_id  \\\n",
              "0      762868          UK     29723892  R3VNENIATVV8QE  B00NOPQU2K   \n",
              "1     1284183          UK     41072087  R2U3LV67N99770  B0013F2LSK   \n",
              "2     1599315          UK     49938094  R3RO94POCHNI9V  B005CVWWJY   \n",
              "3      204782          UK     14398213   R3S2BB5SBWBC1  B00008AWV3   \n",
              "4      352938          UK     20140500  R27E2PNXJSWJIN  B00FAXJHCY   \n",
              "\n",
              "   product_parent                   product_title  star_rating  helpful_votes  \\\n",
              "0       627793267           The Girl on the Train            5              0   \n",
              "1        13214624                              11            5              2   \n",
              "2       769273676                Ready Player One            5              0   \n",
              "3       841759677  The Four Feathers [DVD] [1939]            5              1   \n",
              "4       803172158                     The Martian            4              0   \n",
              "\n",
              "   total_votes vine verified_purchase  \\\n",
              "0            1    N                 N   \n",
              "1            5    N                 Y   \n",
              "2            0    N                 Y   \n",
              "3            1    N                 Y   \n",
              "4            0    N                 Y   \n",
              "\n",
              "                                     review_headline  \\\n",
              "0                Gripping you right where it matters   \n",
              "1                                     The Best of Me   \n",
              "2                                             superb   \n",
              "3                 Sweeping, authentic historic drama   \n",
              "4  ... a few pages to get through it but a good b...   \n",
              "\n",
              "                                         review_body review_date  \\\n",
              "0  I know to say a story is &#34;gripping&#34; is...  2015-04-27   \n",
              "1  This album is totally fantastic, a great mix o...  2008-03-18   \n",
              "2  Enjoyed every second of this book.  It took me...  2014-08-28   \n",
              "3  I loved the historic scenes---the English coun...  2013-12-27   \n",
              "4  May have skipped a few pages to get through it...  2015-06-06   \n",
              "\n",
              "         product_category  \n",
              "0  Digital_Ebook_Purchase  \n",
              "1                   Music  \n",
              "2  Digital_Ebook_Purchase  \n",
              "3               Video DVD  \n",
              "4  Digital_Ebook_Purchase  "
            ]
          },
          "execution_count": 4,
          "metadata": {},
          "output_type": "execute_result"
        }
      ],
      "source": [
        "df.head()"
      ]
    },
    {
      "cell_type": "code",
      "execution_count": null,
      "metadata": {
        "colab": {
          "base_uri": "https://localhost:8080/"
        },
        "id": "Uwuo9bAUnJFi",
        "outputId": "a41f5fdf-1e36-4b7c-9290-46f375775d68"
      },
      "outputs": [
        {
          "name": "stdout",
          "output_type": "stream",
          "text": [
            "<class 'pandas.core.frame.DataFrame'>\n",
            "RangeIndex: 170583 entries, 0 to 170582\n",
            "Data columns (total 16 columns):\n",
            " #   Column             Non-Null Count   Dtype \n",
            "---  ------             --------------   ----- \n",
            " 0   Unnamed: 0         170583 non-null  int64 \n",
            " 1   marketplace        170583 non-null  object\n",
            " 2   customer_id        170583 non-null  int64 \n",
            " 3   review_id          170583 non-null  object\n",
            " 4   product_id         170583 non-null  object\n",
            " 5   product_parent     170583 non-null  int64 \n",
            " 6   product_title      170583 non-null  object\n",
            " 7   star_rating        170583 non-null  int64 \n",
            " 8   helpful_votes      170583 non-null  int64 \n",
            " 9   total_votes        170583 non-null  int64 \n",
            " 10  vine               170583 non-null  object\n",
            " 11  verified_purchase  170583 non-null  object\n",
            " 12  review_headline    170583 non-null  object\n",
            " 13  review_body        170582 non-null  object\n",
            " 14  review_date        170578 non-null  object\n",
            " 15  product_category   170583 non-null  object\n",
            "dtypes: int64(6), object(10)\n",
            "memory usage: 20.8+ MB\n"
          ]
        }
      ],
      "source": [
        "# Verificação dos tipos de dados disponíveis em cada coluna\n",
        "# Tendo em vista o nome e os tipos de cada coluna, os dados do tipo Objeto são os que mais se distinguem para a análise do dataset.\n",
        "# Foi escolhido trabalhar exclusivamente com a coluna \"review_body\" que parece conter as informações centrais do conjunto.\n",
        "# Para isso será tilizado um modelo de Processamento de Linguagem Natural.\n",
        "df.info()"
      ]
    },
    {
      "cell_type": "markdown",
      "metadata": {
        "id": "bbjH7dmzo-ed"
      },
      "source": [
        "## Pré-Processamento de Dados"
      ]
    },
    {
      "cell_type": "code",
      "execution_count": null,
      "metadata": {
        "colab": {
          "base_uri": "https://localhost:8080/",
          "height": 551
        },
        "id": "-xEdvRt-Rez7",
        "outputId": "e7f6c300-dabd-44fb-e866-3fd8b2480456"
      },
      "outputs": [
        {
          "data": {
            "text/html": [
              "\n",
              "  <div id=\"df-66d1faaa-6920-4a1b-9161-79ce68d37826\">\n",
              "    <div class=\"colab-df-container\">\n",
              "      <div>\n",
              "<style scoped>\n",
              "    .dataframe tbody tr th:only-of-type {\n",
              "        vertical-align: middle;\n",
              "    }\n",
              "\n",
              "    .dataframe tbody tr th {\n",
              "        vertical-align: top;\n",
              "    }\n",
              "\n",
              "    .dataframe thead th {\n",
              "        text-align: right;\n",
              "    }\n",
              "</style>\n",
              "<table border=\"1\" class=\"dataframe\">\n",
              "  <thead>\n",
              "    <tr style=\"text-align: right;\">\n",
              "      <th></th>\n",
              "      <th>Count</th>\n",
              "      <th>Percentage</th>\n",
              "    </tr>\n",
              "  </thead>\n",
              "  <tbody>\n",
              "    <tr>\n",
              "      <th>review_date</th>\n",
              "      <td>5</td>\n",
              "      <td>0.002931</td>\n",
              "    </tr>\n",
              "    <tr>\n",
              "      <th>review_body</th>\n",
              "      <td>1</td>\n",
              "      <td>0.000586</td>\n",
              "    </tr>\n",
              "    <tr>\n",
              "      <th>Unnamed: 0</th>\n",
              "      <td>0</td>\n",
              "      <td>0.000000</td>\n",
              "    </tr>\n",
              "    <tr>\n",
              "      <th>marketplace</th>\n",
              "      <td>0</td>\n",
              "      <td>0.000000</td>\n",
              "    </tr>\n",
              "    <tr>\n",
              "      <th>customer_id</th>\n",
              "      <td>0</td>\n",
              "      <td>0.000000</td>\n",
              "    </tr>\n",
              "    <tr>\n",
              "      <th>review_id</th>\n",
              "      <td>0</td>\n",
              "      <td>0.000000</td>\n",
              "    </tr>\n",
              "    <tr>\n",
              "      <th>product_id</th>\n",
              "      <td>0</td>\n",
              "      <td>0.000000</td>\n",
              "    </tr>\n",
              "    <tr>\n",
              "      <th>product_parent</th>\n",
              "      <td>0</td>\n",
              "      <td>0.000000</td>\n",
              "    </tr>\n",
              "    <tr>\n",
              "      <th>product_title</th>\n",
              "      <td>0</td>\n",
              "      <td>0.000000</td>\n",
              "    </tr>\n",
              "    <tr>\n",
              "      <th>star_rating</th>\n",
              "      <td>0</td>\n",
              "      <td>0.000000</td>\n",
              "    </tr>\n",
              "    <tr>\n",
              "      <th>helpful_votes</th>\n",
              "      <td>0</td>\n",
              "      <td>0.000000</td>\n",
              "    </tr>\n",
              "    <tr>\n",
              "      <th>total_votes</th>\n",
              "      <td>0</td>\n",
              "      <td>0.000000</td>\n",
              "    </tr>\n",
              "    <tr>\n",
              "      <th>vine</th>\n",
              "      <td>0</td>\n",
              "      <td>0.000000</td>\n",
              "    </tr>\n",
              "    <tr>\n",
              "      <th>verified_purchase</th>\n",
              "      <td>0</td>\n",
              "      <td>0.000000</td>\n",
              "    </tr>\n",
              "    <tr>\n",
              "      <th>review_headline</th>\n",
              "      <td>0</td>\n",
              "      <td>0.000000</td>\n",
              "    </tr>\n",
              "    <tr>\n",
              "      <th>product_category</th>\n",
              "      <td>0</td>\n",
              "      <td>0.000000</td>\n",
              "    </tr>\n",
              "  </tbody>\n",
              "</table>\n",
              "</div>\n",
              "      <button class=\"colab-df-convert\" onclick=\"convertToInteractive('df-66d1faaa-6920-4a1b-9161-79ce68d37826')\"\n",
              "              title=\"Convert this dataframe to an interactive table.\"\n",
              "              style=\"display:none;\">\n",
              "        \n",
              "  <svg xmlns=\"http://www.w3.org/2000/svg\" height=\"24px\"viewBox=\"0 0 24 24\"\n",
              "       width=\"24px\">\n",
              "    <path d=\"M0 0h24v24H0V0z\" fill=\"none\"/>\n",
              "    <path d=\"M18.56 5.44l.94 2.06.94-2.06 2.06-.94-2.06-.94-.94-2.06-.94 2.06-2.06.94zm-11 1L8.5 8.5l.94-2.06 2.06-.94-2.06-.94L8.5 2.5l-.94 2.06-2.06.94zm10 10l.94 2.06.94-2.06 2.06-.94-2.06-.94-.94-2.06-.94 2.06-2.06.94z\"/><path d=\"M17.41 7.96l-1.37-1.37c-.4-.4-.92-.59-1.43-.59-.52 0-1.04.2-1.43.59L10.3 9.45l-7.72 7.72c-.78.78-.78 2.05 0 2.83L4 21.41c.39.39.9.59 1.41.59.51 0 1.02-.2 1.41-.59l7.78-7.78 2.81-2.81c.8-.78.8-2.07 0-2.86zM5.41 20L4 18.59l7.72-7.72 1.47 1.35L5.41 20z\"/>\n",
              "  </svg>\n",
              "      </button>\n",
              "      \n",
              "  <style>\n",
              "    .colab-df-container {\n",
              "      display:flex;\n",
              "      flex-wrap:wrap;\n",
              "      gap: 12px;\n",
              "    }\n",
              "\n",
              "    .colab-df-convert {\n",
              "      background-color: #E8F0FE;\n",
              "      border: none;\n",
              "      border-radius: 50%;\n",
              "      cursor: pointer;\n",
              "      display: none;\n",
              "      fill: #1967D2;\n",
              "      height: 32px;\n",
              "      padding: 0 0 0 0;\n",
              "      width: 32px;\n",
              "    }\n",
              "\n",
              "    .colab-df-convert:hover {\n",
              "      background-color: #E2EBFA;\n",
              "      box-shadow: 0px 1px 2px rgba(60, 64, 67, 0.3), 0px 1px 3px 1px rgba(60, 64, 67, 0.15);\n",
              "      fill: #174EA6;\n",
              "    }\n",
              "\n",
              "    [theme=dark] .colab-df-convert {\n",
              "      background-color: #3B4455;\n",
              "      fill: #D2E3FC;\n",
              "    }\n",
              "\n",
              "    [theme=dark] .colab-df-convert:hover {\n",
              "      background-color: #434B5C;\n",
              "      box-shadow: 0px 1px 3px 1px rgba(0, 0, 0, 0.15);\n",
              "      filter: drop-shadow(0px 1px 2px rgba(0, 0, 0, 0.3));\n",
              "      fill: #FFFFFF;\n",
              "    }\n",
              "  </style>\n",
              "\n",
              "      <script>\n",
              "        const buttonEl =\n",
              "          document.querySelector('#df-66d1faaa-6920-4a1b-9161-79ce68d37826 button.colab-df-convert');\n",
              "        buttonEl.style.display =\n",
              "          google.colab.kernel.accessAllowed ? 'block' : 'none';\n",
              "\n",
              "        async function convertToInteractive(key) {\n",
              "          const element = document.querySelector('#df-66d1faaa-6920-4a1b-9161-79ce68d37826');\n",
              "          const dataTable =\n",
              "            await google.colab.kernel.invokeFunction('convertToInteractive',\n",
              "                                                     [key], {});\n",
              "          if (!dataTable) return;\n",
              "\n",
              "          const docLinkHtml = 'Like what you see? Visit the ' +\n",
              "            '<a target=\"_blank\" href=https://colab.research.google.com/notebooks/data_table.ipynb>data table notebook</a>'\n",
              "            + ' to learn more about interactive tables.';\n",
              "          element.innerHTML = '';\n",
              "          dataTable['output_type'] = 'display_data';\n",
              "          await google.colab.output.renderOutput(dataTable, element);\n",
              "          const docLink = document.createElement('div');\n",
              "          docLink.innerHTML = docLinkHtml;\n",
              "          element.appendChild(docLink);\n",
              "        }\n",
              "      </script>\n",
              "    </div>\n",
              "  </div>\n",
              "  "
            ],
            "text/plain": [
              "                   Count  Percentage\n",
              "review_date            5    0.002931\n",
              "review_body            1    0.000586\n",
              "Unnamed: 0             0    0.000000\n",
              "marketplace            0    0.000000\n",
              "customer_id            0    0.000000\n",
              "review_id              0    0.000000\n",
              "product_id             0    0.000000\n",
              "product_parent         0    0.000000\n",
              "product_title          0    0.000000\n",
              "star_rating            0    0.000000\n",
              "helpful_votes          0    0.000000\n",
              "total_votes            0    0.000000\n",
              "vine                   0    0.000000\n",
              "verified_purchase      0    0.000000\n",
              "review_headline        0    0.000000\n",
              "product_category       0    0.000000"
            ]
          },
          "execution_count": 6,
          "metadata": {},
          "output_type": "execute_result"
        }
      ],
      "source": [
        "# Verificação da quantidade de dados nulos em cada coluna e sua %\n",
        "count = df.isnull().sum().sort_values(ascending=False)\n",
        "percentage = ((df.isnull().sum()/len(df)*100)).sort_values(ascending=False)\n",
        "missing_data = pd.concat([count, percentage], axis=1, keys=['Count', 'Percentage'])\n",
        "missing_data"
      ]
    },
    {
      "cell_type": "code",
      "execution_count": null,
      "metadata": {
        "id": "wPQejlbHFfFh"
      },
      "outputs": [],
      "source": [
        "# Criação de uma nova variável contendo o dataset porém com a exclusão das linhas\n",
        "# onde dados nulos estavam localizados.\n",
        "df_no_null = df.dropna()"
      ]
    },
    {
      "cell_type": "code",
      "execution_count": null,
      "metadata": {
        "id": "k6dl_gb5-IhR"
      },
      "outputs": [],
      "source": [
        "# Embaralhamento dos dados\n",
        "df_shuffled = df_no_null.sample(frac=1, random_state=21)"
      ]
    },
    {
      "cell_type": "code",
      "execution_count": null,
      "metadata": {
        "id": "V7Ar4XjExoxv"
      },
      "outputs": [],
      "source": [
        "# Exclusão das colunas que não serão utilizadas para a análise.\n",
        "df_shuffled.drop(columns = ['Unnamed: 0', 'marketplace', 'customer_id', 'review_id', 'product_id', 'product_parent', \n",
        "                             'product_title', 'star_rating', 'helpful_votes', 'total_votes', 'vine', \n",
        "                             'verified_purchase', 'review_headline', 'review_date'], inplace = True)"
      ]
    },
    {
      "cell_type": "code",
      "execution_count": null,
      "metadata": {
        "colab": {
          "base_uri": "https://localhost:8080/",
          "height": 206
        },
        "id": "yIvxpN4Mx-2B",
        "outputId": "fcdf96a5-364e-4e3c-a33c-b3279977b412"
      },
      "outputs": [
        {
          "data": {
            "text/html": [
              "\n",
              "  <div id=\"df-2eab0470-5985-4833-aa0c-57189c813712\">\n",
              "    <div class=\"colab-df-container\">\n",
              "      <div>\n",
              "<style scoped>\n",
              "    .dataframe tbody tr th:only-of-type {\n",
              "        vertical-align: middle;\n",
              "    }\n",
              "\n",
              "    .dataframe tbody tr th {\n",
              "        vertical-align: top;\n",
              "    }\n",
              "\n",
              "    .dataframe thead th {\n",
              "        text-align: right;\n",
              "    }\n",
              "</style>\n",
              "<table border=\"1\" class=\"dataframe\">\n",
              "  <thead>\n",
              "    <tr style=\"text-align: right;\">\n",
              "      <th></th>\n",
              "      <th>review_body</th>\n",
              "      <th>product_category</th>\n",
              "    </tr>\n",
              "  </thead>\n",
              "  <tbody>\n",
              "    <tr>\n",
              "      <th>148070</th>\n",
              "      <td>The book arrived quickly  and in good conditio...</td>\n",
              "      <td>Books</td>\n",
              "    </tr>\n",
              "    <tr>\n",
              "      <th>75701</th>\n",
              "      <td>Cant say enough about this record. Just brilli...</td>\n",
              "      <td>Music</td>\n",
              "    </tr>\n",
              "    <tr>\n",
              "      <th>117610</th>\n",
              "      <td>takes a long time to receive from uk to the us...</td>\n",
              "      <td>Video DVD</td>\n",
              "    </tr>\n",
              "    <tr>\n",
              "      <th>169811</th>\n",
              "      <td>I am very pleased with the quality of the cd i...</td>\n",
              "      <td>Music</td>\n",
              "    </tr>\n",
              "    <tr>\n",
              "      <th>45776</th>\n",
              "      <td>Excellent storyline, and puzzles to solve. Sha...</td>\n",
              "      <td>Mobile_Apps</td>\n",
              "    </tr>\n",
              "  </tbody>\n",
              "</table>\n",
              "</div>\n",
              "      <button class=\"colab-df-convert\" onclick=\"convertToInteractive('df-2eab0470-5985-4833-aa0c-57189c813712')\"\n",
              "              title=\"Convert this dataframe to an interactive table.\"\n",
              "              style=\"display:none;\">\n",
              "        \n",
              "  <svg xmlns=\"http://www.w3.org/2000/svg\" height=\"24px\"viewBox=\"0 0 24 24\"\n",
              "       width=\"24px\">\n",
              "    <path d=\"M0 0h24v24H0V0z\" fill=\"none\"/>\n",
              "    <path d=\"M18.56 5.44l.94 2.06.94-2.06 2.06-.94-2.06-.94-.94-2.06-.94 2.06-2.06.94zm-11 1L8.5 8.5l.94-2.06 2.06-.94-2.06-.94L8.5 2.5l-.94 2.06-2.06.94zm10 10l.94 2.06.94-2.06 2.06-.94-2.06-.94-.94-2.06-.94 2.06-2.06.94z\"/><path d=\"M17.41 7.96l-1.37-1.37c-.4-.4-.92-.59-1.43-.59-.52 0-1.04.2-1.43.59L10.3 9.45l-7.72 7.72c-.78.78-.78 2.05 0 2.83L4 21.41c.39.39.9.59 1.41.59.51 0 1.02-.2 1.41-.59l7.78-7.78 2.81-2.81c.8-.78.8-2.07 0-2.86zM5.41 20L4 18.59l7.72-7.72 1.47 1.35L5.41 20z\"/>\n",
              "  </svg>\n",
              "      </button>\n",
              "      \n",
              "  <style>\n",
              "    .colab-df-container {\n",
              "      display:flex;\n",
              "      flex-wrap:wrap;\n",
              "      gap: 12px;\n",
              "    }\n",
              "\n",
              "    .colab-df-convert {\n",
              "      background-color: #E8F0FE;\n",
              "      border: none;\n",
              "      border-radius: 50%;\n",
              "      cursor: pointer;\n",
              "      display: none;\n",
              "      fill: #1967D2;\n",
              "      height: 32px;\n",
              "      padding: 0 0 0 0;\n",
              "      width: 32px;\n",
              "    }\n",
              "\n",
              "    .colab-df-convert:hover {\n",
              "      background-color: #E2EBFA;\n",
              "      box-shadow: 0px 1px 2px rgba(60, 64, 67, 0.3), 0px 1px 3px 1px rgba(60, 64, 67, 0.15);\n",
              "      fill: #174EA6;\n",
              "    }\n",
              "\n",
              "    [theme=dark] .colab-df-convert {\n",
              "      background-color: #3B4455;\n",
              "      fill: #D2E3FC;\n",
              "    }\n",
              "\n",
              "    [theme=dark] .colab-df-convert:hover {\n",
              "      background-color: #434B5C;\n",
              "      box-shadow: 0px 1px 3px 1px rgba(0, 0, 0, 0.15);\n",
              "      filter: drop-shadow(0px 1px 2px rgba(0, 0, 0, 0.3));\n",
              "      fill: #FFFFFF;\n",
              "    }\n",
              "  </style>\n",
              "\n",
              "      <script>\n",
              "        const buttonEl =\n",
              "          document.querySelector('#df-2eab0470-5985-4833-aa0c-57189c813712 button.colab-df-convert');\n",
              "        buttonEl.style.display =\n",
              "          google.colab.kernel.accessAllowed ? 'block' : 'none';\n",
              "\n",
              "        async function convertToInteractive(key) {\n",
              "          const element = document.querySelector('#df-2eab0470-5985-4833-aa0c-57189c813712');\n",
              "          const dataTable =\n",
              "            await google.colab.kernel.invokeFunction('convertToInteractive',\n",
              "                                                     [key], {});\n",
              "          if (!dataTable) return;\n",
              "\n",
              "          const docLinkHtml = 'Like what you see? Visit the ' +\n",
              "            '<a target=\"_blank\" href=https://colab.research.google.com/notebooks/data_table.ipynb>data table notebook</a>'\n",
              "            + ' to learn more about interactive tables.';\n",
              "          element.innerHTML = '';\n",
              "          dataTable['output_type'] = 'display_data';\n",
              "          await google.colab.output.renderOutput(dataTable, element);\n",
              "          const docLink = document.createElement('div');\n",
              "          docLink.innerHTML = docLinkHtml;\n",
              "          element.appendChild(docLink);\n",
              "        }\n",
              "      </script>\n",
              "    </div>\n",
              "  </div>\n",
              "  "
            ],
            "text/plain": [
              "                                              review_body product_category\n",
              "148070  The book arrived quickly  and in good conditio...            Books\n",
              "75701   Cant say enough about this record. Just brilli...            Music\n",
              "117610  takes a long time to receive from uk to the us...        Video DVD\n",
              "169811  I am very pleased with the quality of the cd i...            Music\n",
              "45776   Excellent storyline, and puzzles to solve. Sha...      Mobile_Apps"
            ]
          },
          "execution_count": 10,
          "metadata": {},
          "output_type": "execute_result"
        }
      ],
      "source": [
        "df_shuffled.head()"
      ]
    },
    {
      "cell_type": "code",
      "execution_count": null,
      "metadata": {
        "id": "k--AK5OeyQj6"
      },
      "outputs": [],
      "source": [
        "import re\n",
        "import string\n",
        "\n",
        "# Tratamento inicial das reviews, buscando padronizar os textos e excluir informações desnecessárias\n",
        "# Ex: Números em uma review não parecem importantes para distinguir a categoria de um produto.\n",
        "\n",
        "def text_clean(text):\n",
        "  text = text.lower() # Transforma o texto em lowercase\n",
        "  text = re.sub(r'<[^>]+>', '', text)\n",
        "  text = re.sub(r\"(@\\[A-Za-z0-9]+)|([^0-9A-Za-z \\t])|(\\w+:\\/\\/\\S+)|^rt|http.+?\", \"\", text) # remove pontuação, URL e @\n",
        "  text = re.sub('\\w*\\d\\w*', '', text) # Remove os dígitos\n",
        "  return text\n",
        "\n",
        "cleaned1 = lambda x: text_clean(x)"
      ]
    },
    {
      "cell_type": "code",
      "execution_count": null,
      "metadata": {
        "colab": {
          "base_uri": "https://localhost:8080/",
          "height": 363
        },
        "id": "haQ18paKzOby",
        "outputId": "e3ec093c-73f1-4927-d227-9d1bbd1b89fd"
      },
      "outputs": [
        {
          "data": {
            "text/html": [
              "\n",
              "  <div id=\"df-f04ed9ff-972e-4070-adc6-6ad1c525733b\">\n",
              "    <div class=\"colab-df-container\">\n",
              "      <div>\n",
              "<style scoped>\n",
              "    .dataframe tbody tr th:only-of-type {\n",
              "        vertical-align: middle;\n",
              "    }\n",
              "\n",
              "    .dataframe tbody tr th {\n",
              "        vertical-align: top;\n",
              "    }\n",
              "\n",
              "    .dataframe thead th {\n",
              "        text-align: right;\n",
              "    }\n",
              "</style>\n",
              "<table border=\"1\" class=\"dataframe\">\n",
              "  <thead>\n",
              "    <tr style=\"text-align: right;\">\n",
              "      <th></th>\n",
              "      <th>review_body</th>\n",
              "      <th>product_category</th>\n",
              "      <th>cleaned_review</th>\n",
              "    </tr>\n",
              "  </thead>\n",
              "  <tbody>\n",
              "    <tr>\n",
              "      <th>148070</th>\n",
              "      <td>The book arrived quickly  and in good conditio...</td>\n",
              "      <td>Books</td>\n",
              "      <td>the book arrived quickly  and in good conditio...</td>\n",
              "    </tr>\n",
              "    <tr>\n",
              "      <th>75701</th>\n",
              "      <td>Cant say enough about this record. Just brilli...</td>\n",
              "      <td>Music</td>\n",
              "      <td>cant say enough about this record just brillia...</td>\n",
              "    </tr>\n",
              "    <tr>\n",
              "      <th>117610</th>\n",
              "      <td>takes a long time to receive from uk to the us...</td>\n",
              "      <td>Video DVD</td>\n",
              "      <td>takes a long time to receive from uk to the us...</td>\n",
              "    </tr>\n",
              "    <tr>\n",
              "      <th>169811</th>\n",
              "      <td>I am very pleased with the quality of the cd i...</td>\n",
              "      <td>Music</td>\n",
              "      <td>i am very pleased with the quality of the cd i...</td>\n",
              "    </tr>\n",
              "    <tr>\n",
              "      <th>45776</th>\n",
              "      <td>Excellent storyline, and puzzles to solve. Sha...</td>\n",
              "      <td>Mobile_Apps</td>\n",
              "      <td>excellent storyline and puzzles to solve shame...</td>\n",
              "    </tr>\n",
              "    <tr>\n",
              "      <th>97462</th>\n",
              "      <td>It's a really good film for the kids and to be...</td>\n",
              "      <td>Video DVD</td>\n",
              "      <td>its a really good film for the kids and to be ...</td>\n",
              "    </tr>\n",
              "    <tr>\n",
              "      <th>163257</th>\n",
              "      <td>This is a Kindle Fire cover and stand and does...</td>\n",
              "      <td>PC</td>\n",
              "      <td>this is a kindle fire cover and stand and does...</td>\n",
              "    </tr>\n",
              "    <tr>\n",
              "      <th>132438</th>\n",
              "      <td>pure genius,Kind Regards Lorraine</td>\n",
              "      <td>Music</td>\n",
              "      <td>pure geniuskind regards lorraine</td>\n",
              "    </tr>\n",
              "    <tr>\n",
              "      <th>144665</th>\n",
              "      <td>Thought i'd write a review because i remember ...</td>\n",
              "      <td>Video DVD</td>\n",
              "      <td>thought id write a review because i remember w...</td>\n",
              "    </tr>\n",
              "    <tr>\n",
              "      <th>3906</th>\n",
              "      <td>My card was debited on 18th Feb 09 I waited fo...</td>\n",
              "      <td>Video DVD</td>\n",
              "      <td>my card was debited on  feb  i waited for the ...</td>\n",
              "    </tr>\n",
              "  </tbody>\n",
              "</table>\n",
              "</div>\n",
              "      <button class=\"colab-df-convert\" onclick=\"convertToInteractive('df-f04ed9ff-972e-4070-adc6-6ad1c525733b')\"\n",
              "              title=\"Convert this dataframe to an interactive table.\"\n",
              "              style=\"display:none;\">\n",
              "        \n",
              "  <svg xmlns=\"http://www.w3.org/2000/svg\" height=\"24px\"viewBox=\"0 0 24 24\"\n",
              "       width=\"24px\">\n",
              "    <path d=\"M0 0h24v24H0V0z\" fill=\"none\"/>\n",
              "    <path d=\"M18.56 5.44l.94 2.06.94-2.06 2.06-.94-2.06-.94-.94-2.06-.94 2.06-2.06.94zm-11 1L8.5 8.5l.94-2.06 2.06-.94-2.06-.94L8.5 2.5l-.94 2.06-2.06.94zm10 10l.94 2.06.94-2.06 2.06-.94-2.06-.94-.94-2.06-.94 2.06-2.06.94z\"/><path d=\"M17.41 7.96l-1.37-1.37c-.4-.4-.92-.59-1.43-.59-.52 0-1.04.2-1.43.59L10.3 9.45l-7.72 7.72c-.78.78-.78 2.05 0 2.83L4 21.41c.39.39.9.59 1.41.59.51 0 1.02-.2 1.41-.59l7.78-7.78 2.81-2.81c.8-.78.8-2.07 0-2.86zM5.41 20L4 18.59l7.72-7.72 1.47 1.35L5.41 20z\"/>\n",
              "  </svg>\n",
              "      </button>\n",
              "      \n",
              "  <style>\n",
              "    .colab-df-container {\n",
              "      display:flex;\n",
              "      flex-wrap:wrap;\n",
              "      gap: 12px;\n",
              "    }\n",
              "\n",
              "    .colab-df-convert {\n",
              "      background-color: #E8F0FE;\n",
              "      border: none;\n",
              "      border-radius: 50%;\n",
              "      cursor: pointer;\n",
              "      display: none;\n",
              "      fill: #1967D2;\n",
              "      height: 32px;\n",
              "      padding: 0 0 0 0;\n",
              "      width: 32px;\n",
              "    }\n",
              "\n",
              "    .colab-df-convert:hover {\n",
              "      background-color: #E2EBFA;\n",
              "      box-shadow: 0px 1px 2px rgba(60, 64, 67, 0.3), 0px 1px 3px 1px rgba(60, 64, 67, 0.15);\n",
              "      fill: #174EA6;\n",
              "    }\n",
              "\n",
              "    [theme=dark] .colab-df-convert {\n",
              "      background-color: #3B4455;\n",
              "      fill: #D2E3FC;\n",
              "    }\n",
              "\n",
              "    [theme=dark] .colab-df-convert:hover {\n",
              "      background-color: #434B5C;\n",
              "      box-shadow: 0px 1px 3px 1px rgba(0, 0, 0, 0.15);\n",
              "      filter: drop-shadow(0px 1px 2px rgba(0, 0, 0, 0.3));\n",
              "      fill: #FFFFFF;\n",
              "    }\n",
              "  </style>\n",
              "\n",
              "      <script>\n",
              "        const buttonEl =\n",
              "          document.querySelector('#df-f04ed9ff-972e-4070-adc6-6ad1c525733b button.colab-df-convert');\n",
              "        buttonEl.style.display =\n",
              "          google.colab.kernel.accessAllowed ? 'block' : 'none';\n",
              "\n",
              "        async function convertToInteractive(key) {\n",
              "          const element = document.querySelector('#df-f04ed9ff-972e-4070-adc6-6ad1c525733b');\n",
              "          const dataTable =\n",
              "            await google.colab.kernel.invokeFunction('convertToInteractive',\n",
              "                                                     [key], {});\n",
              "          if (!dataTable) return;\n",
              "\n",
              "          const docLinkHtml = 'Like what you see? Visit the ' +\n",
              "            '<a target=\"_blank\" href=https://colab.research.google.com/notebooks/data_table.ipynb>data table notebook</a>'\n",
              "            + ' to learn more about interactive tables.';\n",
              "          element.innerHTML = '';\n",
              "          dataTable['output_type'] = 'display_data';\n",
              "          await google.colab.output.renderOutput(dataTable, element);\n",
              "          const docLink = document.createElement('div');\n",
              "          docLink.innerHTML = docLinkHtml;\n",
              "          element.appendChild(docLink);\n",
              "        }\n",
              "      </script>\n",
              "    </div>\n",
              "  </div>\n",
              "  "
            ],
            "text/plain": [
              "                                              review_body product_category  \\\n",
              "148070  The book arrived quickly  and in good conditio...            Books   \n",
              "75701   Cant say enough about this record. Just brilli...            Music   \n",
              "117610  takes a long time to receive from uk to the us...        Video DVD   \n",
              "169811  I am very pleased with the quality of the cd i...            Music   \n",
              "45776   Excellent storyline, and puzzles to solve. Sha...      Mobile_Apps   \n",
              "97462   It's a really good film for the kids and to be...        Video DVD   \n",
              "163257  This is a Kindle Fire cover and stand and does...               PC   \n",
              "132438                  pure genius,Kind Regards Lorraine            Music   \n",
              "144665  Thought i'd write a review because i remember ...        Video DVD   \n",
              "3906    My card was debited on 18th Feb 09 I waited fo...        Video DVD   \n",
              "\n",
              "                                           cleaned_review  \n",
              "148070  the book arrived quickly  and in good conditio...  \n",
              "75701   cant say enough about this record just brillia...  \n",
              "117610  takes a long time to receive from uk to the us...  \n",
              "169811  i am very pleased with the quality of the cd i...  \n",
              "45776   excellent storyline and puzzles to solve shame...  \n",
              "97462   its a really good film for the kids and to be ...  \n",
              "163257  this is a kindle fire cover and stand and does...  \n",
              "132438                   pure geniuskind regards lorraine  \n",
              "144665  thought id write a review because i remember w...  \n",
              "3906    my card was debited on  feb  i waited for the ...  "
            ]
          },
          "execution_count": 12,
          "metadata": {},
          "output_type": "execute_result"
        }
      ],
      "source": [
        "# Criação de uma coluna com os dados limpos\n",
        "df_shuffled['cleaned_review'] = pd.DataFrame(df_shuffled.review_body.apply(cleaned1))\n",
        "\n",
        "df_shuffled.head(10)"
      ]
    },
    {
      "cell_type": "code",
      "execution_count": null,
      "metadata": {
        "id": "tYS67s4lSTjE"
      },
      "outputs": [],
      "source": [
        "# Definição das variáveis, definindo-se X como a independente e y como a dependente.\n",
        "X = df_shuffled[\"cleaned_review\"].to_numpy()\n",
        "y = df_shuffled[\"product_category\"].to_numpy()"
      ]
    },
    {
      "cell_type": "code",
      "execution_count": null,
      "metadata": {
        "colab": {
          "base_uri": "https://localhost:8080/"
        },
        "id": "pT2G_XKKyAAy",
        "outputId": "f39b47ff-9fa4-4321-dda0-b4749242cb48"
      },
      "outputs": [
        {
          "name": "stdout",
          "output_type": "stream",
          "text": [
            "['the book arrived quickly  and in good condition and i started to read it as part of our book club read  i must admit after page  i thought that it was a step too far as  beliving in it was concerned  i do have to think that what i read is believable about  of the book group thought the same as me  as they asked me to try and finish it  but i couldnt'\n",
            " 'cant say enough about this record just brillian steve hogarths voice is even more incredible so utterly expressive and swoopier than ever some soaring rothery guitars all the eliments of classic marillion and yet sounding more comtemory than ever these guys really derserve to be the biggest thing on the plannet enjoy them as your personal jewel'\n",
            " 'takes a long time to receive from uk to the usai does play on us region  psps so it is probably region free codeso yes i would recommend this movie to everybody'\n",
            " ...\n",
            " 'lost a star because of constant trying to get you to spend money on coins and energy its a great addictive game cant put it down once i have energy but very frustrating waiting on it building up'\n",
            " 'this was far better than the other rebus return from retirement books a good read and i would recommend it to all rebus fanatics'\n",
            " 'great film']\n"
          ]
        }
      ],
      "source": [
        "print(X)"
      ]
    },
    {
      "cell_type": "code",
      "execution_count": null,
      "metadata": {
        "colab": {
          "base_uri": "https://localhost:8080/"
        },
        "id": "cH73FmtpyJaS",
        "outputId": "bf01c096-0780-46cd-bb9e-eb0aa41b637b"
      },
      "outputs": [
        {
          "name": "stdout",
          "output_type": "stream",
          "text": [
            "['Books' 'Music' 'Video DVD' ... 'Mobile_Apps' 'Digital_Ebook_Purchase'\n",
            " 'Digital_Video_Download']\n"
          ]
        }
      ],
      "source": [
        "print(y)"
      ]
    },
    {
      "cell_type": "code",
      "execution_count": null,
      "metadata": {
        "colab": {
          "base_uri": "https://localhost:8080/"
        },
        "id": "lQYN9GuJMCKL",
        "outputId": "b9b48203-e60e-49d7-cace-2029cbf421ea"
      },
      "outputs": [
        {
          "name": "stdout",
          "output_type": "stream",
          "text": [
            "[ 3 17 28 ... 16  5  7]\n"
          ]
        }
      ],
      "source": [
        "# Codificação da variável dependente em números para melhor entendimento do computador,\n",
        "# Como a ordem não importa e o número de categorias nos dados é alto foi escolhido usar LabelEncoder no lugar de OneHotEncoder\n",
        "from sklearn import preprocessing\n",
        "label_encoder = preprocessing.LabelEncoder()\n",
        "y = label_encoder.fit_transform(y)\n",
        "print(y)"
      ]
    },
    {
      "cell_type": "code",
      "execution_count": null,
      "metadata": {
        "id": "Qttrj4Gqw4Ku"
      },
      "outputs": [],
      "source": [
        "# Separação dos dados em treinamento e teste\n",
        "from sklearn.model_selection import train_test_split\n",
        "\n",
        "X_train, X_test, y_train, y_test = train_test_split(X, y, test_size = 0.2, random_state = 21)"
      ]
    },
    {
      "cell_type": "code",
      "execution_count": null,
      "metadata": {
        "colab": {
          "base_uri": "https://localhost:8080/"
        },
        "id": "SuR9IR7f2MAy",
        "outputId": "d316490f-9c25-4f50-e328-0d606e5a5046"
      },
      "outputs": [
        {
          "data": {
            "text/plain": [
              "(136461, 34116, 136461, 34116)"
            ]
          },
          "execution_count": 18,
          "metadata": {},
          "output_type": "execute_result"
        }
      ],
      "source": [
        "len(X_train), len(X_test), len(y_train), len(y_test)"
      ]
    },
    {
      "cell_type": "code",
      "execution_count": null,
      "metadata": {
        "colab": {
          "base_uri": "https://localhost:8080/"
        },
        "id": "KEWRyo09Vqrf",
        "outputId": "d2727c46-5117-4872-e131-545ba4b5548a"
      },
      "outputs": [
        {
          "data": {
            "text/plain": [
              "64"
            ]
          },
          "execution_count": 19,
          "metadata": {},
          "output_type": "execute_result"
        }
      ],
      "source": [
        "# Descobrindo o número médio de tokens (palavras) nas reviews de produtos\n",
        "round(sum([len(i.split()) for i in X_train])/len(X_train))"
      ]
    },
    {
      "cell_type": "markdown",
      "metadata": {
        "id": "VAldR-VHrSsF"
      },
      "source": [
        "## Vetorização de Texto"
      ]
    },
    {
      "cell_type": "code",
      "execution_count": null,
      "metadata": {
        "colab": {
          "base_uri": "https://localhost:8080/"
        },
        "id": "fy7raoom-wAI",
        "outputId": "cf4652b5-872f-45af-d13e-9885b75e75f9"
      },
      "outputs": [
        {
          "data": {
            "text/plain": [
              "32"
            ]
          },
          "execution_count": 20,
          "metadata": {},
          "output_type": "execute_result"
        }
      ],
      "source": [
        "number_of_categories = len(set(y))\n",
        "number_of_categories"
      ]
    },
    {
      "cell_type": "code",
      "execution_count": null,
      "metadata": {
        "id": "B0Mr7kDgSIrL"
      },
      "outputs": [],
      "source": [
        "# Aqui estamos começando a mapear as palavras das reviews em números (Tokens)\n",
        "# Como não temos conhecimento do número de palavras únicas no texto, foi optado por um número múltiplo de 10000\n",
        "# Como há grande diferença no tamanho de reviews, foi escolhido que o número sequencial de tokens (output_sequence_length) \n",
        "# seria o número médio de Tokens nas reviews.\n",
        "\n",
        "sequence_length=64\n",
        "number_of_tokens=20000\n",
        "\n",
        "from tensorflow.keras.layers.experimental.preprocessing import TextVectorization\n",
        "\n",
        "text_vectorizer = TextVectorization(max_tokens=number_of_tokens,\n",
        "                                    output_mode=\"int\",\n",
        "                                    output_sequence_length=sequence_length,\n",
        "                                    )"
      ]
    },
    {
      "cell_type": "code",
      "execution_count": null,
      "metadata": {
        "id": "yAoOuA4rc9a1"
      },
      "outputs": [],
      "source": [
        "# Adaptando as reviews de treinamento no TextVectorizer criado\n",
        "text_vectorizer.adapt(X_train)"
      ]
    },
    {
      "cell_type": "code",
      "execution_count": null,
      "metadata": {
        "colab": {
          "base_uri": "https://localhost:8080/"
        },
        "id": "o8Isfib_maKS",
        "outputId": "55de0579-a57c-4008-c851-da15b55f282b"
      },
      "outputs": [
        {
          "name": "stdout",
          "output_type": "stream",
          "text": [
            "Texto original:\n",
            " excellent \n",
            "\n",
            "Versão vetorial:\n"
          ]
        },
        {
          "data": {
            "text/plain": [
              "<tf.Tensor: shape=(1, 64), dtype=int64, numpy=\n",
              "array([[109,   0,   0,   0,   0,   0,   0,   0,   0,   0,   0,   0,   0,\n",
              "          0,   0,   0,   0,   0,   0,   0,   0,   0,   0,   0,   0,   0,\n",
              "          0,   0,   0,   0,   0,   0,   0,   0,   0,   0,   0,   0,   0,\n",
              "          0,   0,   0,   0,   0,   0,   0,   0,   0,   0,   0,   0,   0,\n",
              "          0,   0,   0,   0,   0,   0,   0,   0,   0,   0,   0,   0]])>"
            ]
          },
          "execution_count": 23,
          "metadata": {},
          "output_type": "execute_result"
        }
      ],
      "source": [
        "# Teste do text_vectorizer em uma review aleatória de treinamento\n",
        "random_sentence = random.choice(X_train)\n",
        "print(f\"Texto original:\\n {random_sentence} \\n\\nVersão vetorial:\")\n",
        "text_vectorizer([random_sentence])"
      ]
    },
    {
      "cell_type": "code",
      "execution_count": null,
      "metadata": {
        "colab": {
          "base_uri": "https://localhost:8080/",
          "height": 408
        },
        "id": "kpaCN6Mcm4Cl",
        "outputId": "900b7af9-a2af-442e-cd6c-4ce29e1aadd5"
      },
      "outputs": [
        {
          "name": "stdout",
          "output_type": "stream",
          "text": [
            "Número de palavras no vocabulário: 20000\n"
          ]
        },
        {
          "data": {
            "image/png": "[encoded data removed]",
            "text/plain": [
              "<Figure size 360x360 with 1 Axes>"
            ]
          },
          "metadata": {},
          "output_type": "display_data"
        }
      ],
      "source": [
        "# Descobrir o número de palavras únicas no vocabulário\n",
        "# Aqui conseguimos ver que palavras-chaves como \"music\", \"album\", \"book\", \"film\", \"game\"\n",
        "# estão dentre as palavras mais comuns em nosso vocabulário\n",
        "\n",
        "words_in_vocab = text_vectorizer.get_vocabulary()\n",
        "top_words = words_in_vocab[:100]\n",
        "bottom_words = words_in_vocab[-100:]\n",
        "print(f\"Número de palavras no vocabulário: {len(words_in_vocab)}\")\n",
        "\n",
        "from wordcloud import WordCloud, STOPWORDS\n",
        "stopwords = STOPWORDS\n",
        "comment_words = ''\n",
        "\n",
        "for val in top_words:\n",
        "  val = str(val)\n",
        "  tokens = val.split()\n",
        "\n",
        "  comment_words += \" \".join(tokens)+\" \"\n",
        "\n",
        "wordcloud = WordCloud(width = 300, height = 300,\n",
        "                      background_color=\"white\",\n",
        "                      stopwords=stopwords,\n",
        "                      min_font_size=10).generate(comment_words)\n",
        "\n",
        "plt.figure(figsize=(5,5), facecolor = None)\n",
        "plt.imshow(wordcloud)\n",
        "plt.title(\"Palavras mais comuns\")\n",
        "plt.axis(\"off\")\n",
        "plt.tight_layout(pad=0)\n",
        "\n",
        "plt.show()"
      ]
    },
    {
      "cell_type": "code",
      "execution_count": null,
      "metadata": {
        "colab": {
          "base_uri": "https://localhost:8080/"
        },
        "id": "VwhtUajG2QqS",
        "outputId": "6bc9858e-3252-4404-d9f6-12544f99b132"
      },
      "outputs": [
        {
          "data": {
            "text/plain": [
              "<keras.layers.embeddings.Embedding at 0x7ff1a02f4d50>"
            ]
          },
          "execution_count": 25,
          "metadata": {},
          "output_type": "execute_result"
        }
      ],
      "source": [
        "# Aqui estamos transformando nossos números (tokens) em um embedding\n",
        "# o propósito é que o embedding pode ser aprendido e melhorado durante o treinamento\n",
        "# enquanto apenas tokens são estáticos.\n",
        "tf.random.set_seed(42)\n",
        "from tensorflow.keras import layers\n",
        "\n",
        "embedding = layers.Embedding(input_dim=number_of_tokens,\n",
        "                            output_dim=128,\n",
        "                             embeddings_initializer=\"uniform\",\n",
        "                             input_length=sequence_length\n",
        "                             )\n",
        "embedding"
      ]
    },
    {
      "cell_type": "code",
      "execution_count": null,
      "metadata": {
        "colab": {
          "base_uri": "https://localhost:8080/"
        },
        "id": "dGek7Ks_ROhC",
        "outputId": "2fe7b562-543c-4197-fb74-0457b0f946e6"
      },
      "outputs": [
        {
          "name": "stdout",
          "output_type": "stream",
          "text": [
            "Texto original:\n",
            " i purchased the above dvd as i heard heard a lot about it it was good value for money and arrived very quickly unfortunately i did not really like the story and have notwatched it l since        \n",
            "\n",
            "Versão Embedded: \n"
          ]
        },
        {
          "data": {
            "text/plain": [
              "<tf.Tensor: shape=(1, 64, 128), dtype=float32, numpy=\n",
              "array([[[ 0.02248487, -0.02848336,  0.04786098, ...,  0.03069806,\n",
              "         -0.04317403, -0.04145076],\n",
              "        [ 0.0379    , -0.03258125,  0.03348592, ..., -0.01274431,\n",
              "          0.03421792, -0.03673412],\n",
              "        [ 0.02504804,  0.02770906,  0.01542609, ..., -0.04612003,\n",
              "         -0.02924401, -0.00331711],\n",
              "        ...,\n",
              "        [ 0.01645621, -0.00589932, -0.01471175, ..., -0.02511839,\n",
              "          0.00912381, -0.00024097],\n",
              "        [ 0.01645621, -0.00589932, -0.01471175, ..., -0.02511839,\n",
              "          0.00912381, -0.00024097],\n",
              "        [ 0.01645621, -0.00589932, -0.01471175, ..., -0.02511839,\n",
              "          0.00912381, -0.00024097]]], dtype=float32)>"
            ]
          },
          "execution_count": 26,
          "metadata": {},
          "output_type": "execute_result"
        }
      ],
      "source": [
        "# Teste do embedding com uma frase aleatória do treinamento\n",
        "random_review = random.choice(X_train)\n",
        "print(f\"Texto original:\\n {random_review}\\\n",
        "        \\n\\nVersão Embedded: \")\n",
        "\n",
        "sample_embed = embedding(text_vectorizer([random_review]))\n",
        "sample_embed"
      ]
    },
    {
      "cell_type": "code",
      "execution_count": null,
      "metadata": {
        "colab": {
          "base_uri": "https://localhost:8080/"
        },
        "id": "5aaBADXmRdIM",
        "outputId": "f494cfb8-f912-4d27-a8e8-ad95b943645e"
      },
      "outputs": [
        {
          "data": {
            "text/plain": [
              "(<tf.Tensor: shape=(128,), dtype=float32, numpy=\n",
              " array([ 2.24848725e-02, -2.84833554e-02,  4.78609838e-02, -4.92732525e-02,\n",
              "         2.39694454e-02,  1.65317170e-02, -4.21217196e-02,  2.34782808e-02,\n",
              "         3.37826870e-02, -1.30166784e-02, -1.99116953e-02,  4.13453914e-02,\n",
              "         4.24488671e-02, -1.37188546e-02,  2.62849815e-02, -4.58369628e-02,\n",
              "         3.07335891e-02, -2.02727914e-02,  3.23081054e-02,  4.64849211e-02,\n",
              "        -3.60610709e-02, -5.41896746e-03,  3.24229710e-02,  4.22085039e-02,\n",
              "         3.79009284e-02, -2.72375699e-02, -3.32339406e-02, -3.36158276e-02,\n",
              "         2.85722315e-04,  3.16037796e-02,  3.16189267e-02, -3.55925933e-02,\n",
              "         4.21212576e-02, -9.75701958e-03, -3.44485864e-02, -4.01101932e-02,\n",
              "        -2.34842300e-05, -3.76854651e-02, -2.52356175e-02, -2.23137625e-02,\n",
              "        -4.59641106e-02,  2.91262008e-02,  9.18730348e-03, -2.01575644e-02,\n",
              "        -4.70416918e-02,  2.39054076e-02,  1.64473318e-02,  5.89722395e-03,\n",
              "        -1.26442201e-02,  2.06940249e-03, -9.05661657e-03, -1.68182962e-02,\n",
              "         1.51273720e-02,  9.59328562e-03, -2.46523693e-03, -2.11471077e-02,\n",
              "         2.56977119e-02, -3.92564386e-03,  1.34385861e-02,  1.44845583e-02,\n",
              "        -1.66200995e-02, -1.08792894e-02, -2.93128844e-02,  4.93204594e-03,\n",
              "         1.71336271e-02,  1.54014342e-02, -2.02422030e-02, -7.08229467e-03,\n",
              "        -3.66034880e-02,  2.29660310e-02, -3.79409641e-03,  1.35857798e-02,\n",
              "        -8.15639645e-03, -1.39789470e-02, -4.33417410e-03, -1.97209604e-02,\n",
              "         2.32295282e-02, -4.88272570e-02,  4.03018929e-02, -3.45219746e-02,\n",
              "         3.09780948e-02, -6.03023916e-03,  3.79528515e-02, -4.97383364e-02,\n",
              "         1.11004487e-02,  1.96967833e-02, -1.44866109e-02, -1.54236555e-02,\n",
              "         4.13689874e-02,  4.20026220e-02,  2.97169723e-02,  1.96445324e-02,\n",
              "        -5.38793951e-03, -3.11520696e-02,  3.41932066e-02, -1.74056366e-03,\n",
              "        -1.47651806e-02, -1.30987763e-02, -2.40340475e-02,  4.66701500e-02,\n",
              "        -3.38244662e-02, -5.30682504e-04, -4.99808080e-02, -3.78604420e-02,\n",
              "        -3.91561985e-02,  1.00378282e-02, -1.50918849e-02, -1.95497517e-02,\n",
              "         3.72390263e-02, -1.02089420e-02, -8.94287974e-03,  4.62928526e-02,\n",
              "        -6.00663573e-03, -1.59009807e-02,  5.84095716e-03, -2.77635455e-02,\n",
              "        -3.60238440e-02, -1.99241284e-02,  2.53506936e-02,  2.58189328e-02,\n",
              "        -2.27343328e-02, -2.45749354e-02,  3.89375575e-02,  4.12719361e-02,\n",
              "        -1.78395025e-02,  3.06980647e-02, -4.31740284e-02, -4.14507613e-02],\n",
              "       dtype=float32)>, TensorShape([128]), 'i')"
            ]
          },
          "execution_count": 27,
          "metadata": {},
          "output_type": "execute_result"
        }
      ],
      "source": [
        "# Aqui estamos vendo o exemplo do embedding de um único token\n",
        "# Cada token foi transformado em um vetor de tamanho 128\n",
        "sample_embed[0][0], sample_embed[0][0].shape, random_review[0]"
      ]
    },
    {
      "cell_type": "markdown",
      "metadata": {
        "id": "SAApT_ipwS3X"
      },
      "source": [
        "## Construção dos modelos\n",
        "\n",
        "Para melhor escolher o modelo final, foi testado diferentes modelos com parâmetros padrões. No fim há uma comparação entre os resultados de cada modelo para ver qual melhor performou tanto no conjunto de treinamento quanto no conjunto de testes.<br>\n",
        "Por motivos de tempo e performance foram escolhidos apenas 4 modelos, mais especificamente os seguintes:\n",
        "\n",
        "\n",
        "\n",
        "*   **Modelo 0:** Baseline\n",
        "*   **Modelo 1:** Feed-Forward neural network (Dense model)\n",
        "*   **Modelo 2:** LSTM model\n",
        "*   **Modelo 3:** GRU model\n",
        "\n",
        "O modelo 0 serve para adquirirmos uma linha de base que esperamos que os modelos mais profundos superem.\n",
        "\n",
        "Por se tratar de uma classificação de multicategorias:\n",
        "\n",
        "*   A função de ativação da output foi definida como **softmax**\n",
        "*   A função de perda foi definida como **Sparse Categorical CrossEntropy** (Por estar utilizando-se de LabelEncoder e não OneHotEncoder foi utilizado Sparse)\n",
        "\n",
        "Como otimizador foi escolhido a técnica ADAM."
      ]
    },
    {
      "cell_type": "markdown",
      "metadata": {
        "id": "Oqx5zo5ZWklw"
      },
      "source": [
        "### Modelo 0: Baseline\n",
        "\n",
        "Por se tratar de um modelo mais simples, o modelo de base cria uma Pipeline com o Sckit-Learn, usando da fórmula TF-IDF (term frequency-inverse document frequency) para converter palavras em números e então o [Algorítimo Multinomial Naive Bayes](https://scikit-learn.org/stable/modules/generated/sklearn.naive_bayes.MultinomialNB.html#sklearn.naive_bayes.MultinomialNB)."
      ]
    },
    {
      "cell_type": "code",
      "execution_count": null,
      "metadata": {
        "colab": {
          "base_uri": "https://localhost:8080/"
        },
        "id": "C3UsiZSRooq4",
        "outputId": "3cbc0cd4-c2f9-4287-e22f-397b2e5d7bbf"
      },
      "outputs": [
        {
          "data": {
            "text/plain": [
              "Pipeline(steps=[('tfidf', TfidfVectorizer()), ('clf', MultinomialNB())])"
            ]
          },
          "execution_count": 28,
          "metadata": {},
          "output_type": "execute_result"
        }
      ],
      "source": [
        "from sklearn.feature_extraction.text import TfidfVectorizer\n",
        "from sklearn.naive_bayes import MultinomialNB\n",
        "from sklearn.pipeline import Pipeline\n",
        "\n",
        "# Criação da tokenização e da pipeline do modelo\n",
        "model_0 = Pipeline([\n",
        "                    (\"tfidf\", TfidfVectorizer()), # converte palavras em números\n",
        "                    (\"clf\", MultinomialNB()) # modela o texto\n",
        "])\n",
        "\n",
        "# Ajusta a pipeline nos dados de treinamento\n",
        "model_0.fit(X_train, y_train)"
      ]
    },
    {
      "cell_type": "code",
      "execution_count": null,
      "metadata": {
        "colab": {
          "base_uri": "https://localhost:8080/"
        },
        "id": "xhxgs7QNqr1h",
        "outputId": "c3fa0e8b-257a-47a2-c891-cd8eeeda463e"
      },
      "outputs": [
        {
          "name": "stdout",
          "output_type": "stream",
          "text": [
            "Nosso modelo de base adquiriu uma acurácia de: 64.26%\n"
          ]
        }
      ],
      "source": [
        "# Avaliação do modelo de base\n",
        "baseline_score = model_0.score(X_test, y_test)\n",
        "print(f\"Nosso modelo de base adquiriu uma acurácia de: {baseline_score*100:.2f}%\")"
      ]
    },
    {
      "cell_type": "code",
      "execution_count": null,
      "metadata": {
        "colab": {
          "base_uri": "https://localhost:8080/"
        },
        "id": "78pe3HaarIpq",
        "outputId": "76248544-5c40-4546-b8f5-a7d3fc9dd4c6"
      },
      "outputs": [
        {
          "data": {
            "text/plain": [
              "array([28, 17, 28, 28, 28, 28, 28, 28, 17, 28, 28, 16, 28, 28, 28, 16, 28,\n",
              "       28,  5, 28])"
            ]
          },
          "execution_count": 30,
          "metadata": {},
          "output_type": "execute_result"
        }
      ],
      "source": [
        "# Previsões do modelo\n",
        "baseline_preds = model_0.predict(X_test)\n",
        "baseline_preds[:20]"
      ]
    },
    {
      "cell_type": "markdown",
      "metadata": {
        "id": "ztkT8BQ_ye9o"
      },
      "source": [
        "### Criação de uma função avaliadora dos modelos\n",
        "\n",
        "Como dito no desafio, o modelo seria validado através da métrica **accuracy_score** da biblioteca scikit-learn. Abaixo está uma helper-function obtida no curso [TensorFlow Developer Certificate](https://www.udemy.com/course/tensorflow-developer-certificate-machine-learning-zero-to-mastery/). A função calcula:\n",
        "\n",
        "\n",
        "\n",
        "*   Acurácia (usando accuracy_score)\n",
        "*   Precisão\n",
        "*   Recall\n",
        "*   F1-score\n",
        "\n"
      ]
    },
    {
      "cell_type": "code",
      "execution_count": null,
      "metadata": {
        "id": "EdJ9zDsgrWWo"
      },
      "outputs": [],
      "source": [
        "# Função de avaliação dos modelos\n",
        "from sklearn.metrics import accuracy_score, precision_recall_fscore_support\n",
        "def calculate_results(y_true, y_pred):\n",
        "  model_accuracy = accuracy_score(y_true, y_pred) * 100\n",
        "  model_precision, model_recall, model_f1, _ = precision_recall_fscore_support(y_true, y_pred, average=\"weighted\")\n",
        "  model_results = {\"accuracy\": model_accuracy,\n",
        "                   \"precision\": model_precision,\n",
        "                   \"recall\": model_recall,\n",
        "                   \"f1\": model_f1}\n",
        "\n",
        "  return model_results"
      ]
    },
    {
      "cell_type": "code",
      "execution_count": null,
      "metadata": {
        "colab": {
          "base_uri": "https://localhost:8080/"
        },
        "id": "38aXLr2CraWv",
        "outputId": "4763299a-e4d5-4b18-8d1a-336d5127d5a7"
      },
      "outputs": [
        {
          "name": "stderr",
          "output_type": "stream",
          "text": [
            "/usr/local/lib/python3.7/dist-packages/sklearn/metrics/_classification.py:1318: UndefinedMetricWarning: Precision and F-score are ill-defined and being set to 0.0 in labels with no predicted samples. Use `zero_division` parameter to control this behavior.\n",
            "  _warn_prf(average, modifier, msg_start, len(result))\n"
          ]
        },
        {
          "data": {
            "text/plain": [
              "{'accuracy': 64.25724000468989,\n",
              " 'f1': 0.6113287955542902,\n",
              " 'precision': 0.6580691455715948,\n",
              " 'recall': 0.6425724000468989}"
            ]
          },
          "execution_count": 32,
          "metadata": {},
          "output_type": "execute_result"
        }
      ],
      "source": [
        "# Utilização da função no modelo-base\n",
        "baseline_results = calculate_results(y_true=y_test,\n",
        "                                     y_pred=baseline_preds)\n",
        "\n",
        "baseline_results"
      ]
    },
    {
      "cell_type": "markdown",
      "metadata": {
        "id": "3HO19RVfuZZ-"
      },
      "source": [
        "### Modelo 1: Simple dense model\n",
        "\n",
        "O modelo abaixa recebe nossos textos na camada de input, passa então pelo processo de tokenização e embedding e é enviada para uma cada que calculada o embedding médio (GlobalAveragePooling) antes de se conectar com a camada de output.<br>\n",
        "\n"
      ]
    },
    {
      "cell_type": "code",
      "execution_count": null,
      "metadata": {
        "id": "TjMJSRE5uAT6"
      },
      "outputs": [],
      "source": [
        "inputs = layers.Input(shape=(1,), dtype=tf.string)\n",
        "x = text_vectorizer(inputs)\n",
        "x = embedding(x)\n",
        "x = layers.GlobalAveragePooling1D()(x)\n",
        "outputs = layers.Dense(32, activation=\"softmax\")(x) # O número 32 se refere ao número possível de resultados na variável independente\n",
        "# como existem 32 categorias de produtos disponíveis, é possível obter-se 32 resultados diferentes.\n",
        "model_1 = tf.keras.Model(inputs, outputs, name=\"model_1_dense\")"
      ]
    },
    {
      "cell_type": "code",
      "execution_count": null,
      "metadata": {
        "colab": {
          "base_uri": "https://localhost:8080/"
        },
        "id": "EI7buZP0vd_n",
        "outputId": "beeef9ff-edd3-4d57-f03b-59cc89fe0808"
      },
      "outputs": [
        {
          "name": "stdout",
          "output_type": "stream",
          "text": [
            "Model: \"model_1_dense\"\n",
            "_________________________________________________________________\n",
            " Layer (type)                Output Shape              Param #   \n",
            "=================================================================\n",
            " input_1 (InputLayer)        [(None, 1)]               0         \n",
            "                                                                 \n",
            " text_vectorization (TextVec  (None, 64)               0         \n",
            " torization)                                                     \n",
            "                                                                 \n",
            " embedding (Embedding)       (None, 64, 128)           2560000   \n",
            "                                                                 \n",
            " global_average_pooling1d (G  (None, 128)              0         \n",
            " lobalAveragePooling1D)                                          \n",
            "                                                                 \n",
            " dense (Dense)               (None, 32)                4128      \n",
            "                                                                 \n",
            "=================================================================\n",
            "Total params: 2,564,128\n",
            "Trainable params: 2,564,128\n",
            "Non-trainable params: 0\n",
            "_________________________________________________________________\n"
          ]
        }
      ],
      "source": [
        "model_1.summary()"
      ]
    },
    {
      "cell_type": "code",
      "execution_count": null,
      "metadata": {
        "id": "Fc3AKpMivfoh"
      },
      "outputs": [],
      "source": [
        "model_1.compile(loss=tf.keras.losses.SparseCategoricalCrossentropy(),\n",
        "                optimizer=tf.keras.optimizers.Adam(),\n",
        "                metrics=[\"accuracy\"])"
      ]
    },
    {
      "cell_type": "code",
      "execution_count": null,
      "metadata": {
        "colab": {
          "base_uri": "https://localhost:8080/"
        },
        "id": "y_raz0rDAc3P",
        "outputId": "1c8ff925-3a90-492e-fc53-0c1f2a4412ac"
      },
      "outputs": [
        {
          "name": "stdout",
          "output_type": "stream",
          "text": [
            "Epoch 1/10\n",
            "4265/4265 [==============================] - 27s 6ms/step - loss: 1.2178 - accuracy: 0.6305 - val_loss: 0.8902 - val_accuracy: 0.7176\n",
            "Epoch 2/10\n",
            "4265/4265 [==============================] - 23s 5ms/step - loss: 0.8243 - accuracy: 0.7299 - val_loss: 0.8031 - val_accuracy: 0.7354\n",
            "Epoch 3/10\n",
            "4265/4265 [==============================] - 24s 6ms/step - loss: 0.7456 - accuracy: 0.7502 - val_loss: 0.7701 - val_accuracy: 0.7363\n",
            "Epoch 4/10\n",
            "4265/4265 [==============================] - 23s 5ms/step - loss: 0.6950 - accuracy: 0.7637 - val_loss: 0.7565 - val_accuracy: 0.7453\n",
            "Epoch 5/10\n",
            "4265/4265 [==============================] - 24s 6ms/step - loss: 0.6572 - accuracy: 0.7755 - val_loss: 0.7532 - val_accuracy: 0.7413\n",
            "Epoch 6/10\n",
            "4265/4265 [==============================] - 23s 5ms/step - loss: 0.6266 - accuracy: 0.7832 - val_loss: 0.7528 - val_accuracy: 0.7411\n",
            "Epoch 7/10\n",
            "4265/4265 [==============================] - 23s 5ms/step - loss: 0.6009 - accuracy: 0.7909 - val_loss: 0.7605 - val_accuracy: 0.7424\n",
            "Epoch 8/10\n",
            "4265/4265 [==============================] - 26s 6ms/step - loss: 0.5789 - accuracy: 0.7969 - val_loss: 0.7654 - val_accuracy: 0.7442\n",
            "Epoch 9/10\n",
            "4265/4265 [==============================] - 23s 5ms/step - loss: 0.5597 - accuracy: 0.8032 - val_loss: 0.7840 - val_accuracy: 0.7324\n",
            "Epoch 10/10\n",
            "4265/4265 [==============================] - 23s 5ms/step - loss: 0.5427 - accuracy: 0.8069 - val_loss: 0.7884 - val_accuracy: 0.7380\n"
          ]
        }
      ],
      "source": [
        "# Aqui estamos começando o modelo com os dados do dataset, em 10 epochs.\n",
        "model_1_history = model_1.fit(X_train,y_train,epochs=10,validation_data=(X_test, y_test))"
      ]
    },
    {
      "cell_type": "code",
      "execution_count": null,
      "metadata": {
        "colab": {
          "base_uri": "https://localhost:8080/"
        },
        "id": "_t5Tmj5sUKF3",
        "outputId": "43f38ec3-91b1-4cf8-eefc-ad6fa295a9ac"
      },
      "outputs": [
        {
          "name": "stdout",
          "output_type": "stream",
          "text": [
            "1067/1067 [==============================] - 3s 3ms/step - loss: 0.7884 - accuracy: 0.7380\n"
          ]
        },
        {
          "data": {
            "text/plain": [
              "[0.7884402871131897, 0.7379528880119324]"
            ]
          },
          "execution_count": 37,
          "metadata": {},
          "output_type": "execute_result"
        }
      ],
      "source": [
        "# Após treinado estamos avaliando a performance com o conjunto de testes\n",
        "model_1.evaluate(X_test, y_test)"
      ]
    },
    {
      "cell_type": "code",
      "execution_count": null,
      "metadata": {
        "colab": {
          "base_uri": "https://localhost:8080/"
        },
        "id": "8cZ6WBhtUXvG",
        "outputId": "4d15384f-a465-4f4e-d7ba-c8c0ad0508bf"
      },
      "outputs": [
        {
          "data": {
            "text/plain": [
              "array([[8.74010254e-07, 2.96562149e-07, 5.07361320e-10, 2.01885942e-02,\n",
              "        9.98480937e-06, 2.49634334e-03, 4.13304707e-03, 2.76870764e-04,\n",
              "        5.41757890e-06, 7.30784734e-07, 2.46543914e-06, 6.45139409e-08,\n",
              "        1.05880986e-06, 2.03555331e-07, 1.12373584e-06, 4.07076861e-08,\n",
              "        2.14495522e-05, 1.86470658e-01, 1.53663659e-05, 5.33877801e-06,\n",
              "        1.80982352e-05, 1.09424214e-07, 5.84697695e-08, 8.19099057e-07,\n",
              "        3.70843395e-07, 3.94862991e-06, 1.74010097e-06, 5.51362871e-04,\n",
              "        7.85778284e-01, 1.28777310e-05, 5.56083705e-07, 1.86629848e-06],\n",
              "       [6.42514236e-11, 3.08883084e-12, 7.90745168e-14, 2.84565573e-07,\n",
              "        7.03423431e-12, 1.80489735e-07, 7.29731482e-06, 7.71113118e-10,\n",
              "        4.62775998e-11, 5.58784304e-11, 2.68422298e-11, 1.80875779e-12,\n",
              "        1.71508068e-11, 5.94638705e-12, 2.30056363e-10, 1.27450015e-12,\n",
              "        6.35658247e-13, 9.99979734e-01, 1.64271952e-09, 2.12932186e-10,\n",
              "        2.08860511e-12, 2.46152252e-12, 1.19472390e-10, 2.32192626e-10,\n",
              "        4.40349797e-12, 2.02387516e-11, 6.73389053e-11, 1.15355014e-07,\n",
              "        1.23909385e-05, 1.79809626e-10, 3.61332427e-12, 3.64343763e-11],\n",
              "       [1.70827028e-04, 2.28457432e-03, 2.43309756e-07, 3.10069006e-02,\n",
              "        1.66857161e-03, 5.96856847e-02, 2.22997461e-03, 1.62065346e-02,\n",
              "        7.21871329e-04, 7.04698323e-05, 1.13832240e-03, 1.32743962e-05,\n",
              "        5.29916317e-04, 2.90830631e-05, 9.54850984e-05, 1.40867915e-05,\n",
              "        6.86612427e-01, 9.09481756e-03, 4.74421715e-04, 2.45177012e-04,\n",
              "        1.61033473e-03, 5.24937459e-05, 3.92864831e-06, 1.62610668e-04,\n",
              "        6.17219921e-05, 2.41755811e-03, 4.82877865e-02, 1.84966106e-04,\n",
              "        1.32014841e-01, 1.06447143e-03, 7.81242095e-04, 1.06535596e-03],\n",
              "       [1.18279655e-04, 3.31318472e-04, 1.13755952e-07, 1.37725556e-02,\n",
              "        5.44042268e-04, 6.75507858e-02, 3.04160942e-03, 3.71057866e-03,\n",
              "        4.23969963e-04, 3.99597775e-05, 4.10526030e-04, 6.92564208e-06,\n",
              "        2.19250607e-04, 1.29348900e-05, 4.48730061e-05, 6.87729926e-06,\n",
              "        8.32585573e-01, 1.39773609e-02, 3.13323340e-04, 1.20194883e-04,\n",
              "        1.86959095e-03, 2.84520265e-05, 2.07168159e-06, 9.29854941e-05,\n",
              "        3.30344956e-05, 6.76578435e-04, 2.53746449e-03, 4.90329185e-05,\n",
              "        5.61331734e-02, 6.24508248e-04, 1.72677363e-04, 5.49397490e-04],\n",
              "       [7.83812993e-06, 3.41191189e-05, 4.54411564e-10, 4.91411418e-01,\n",
              "        5.26284130e-05, 5.94989571e-04, 1.15349540e-04, 1.82767781e-05,\n",
              "        3.20351101e-05, 3.84185796e-06, 3.48259695e-04, 1.62237825e-07,\n",
              "        2.98811410e-05, 1.18546234e-06, 1.35045502e-05, 1.22108887e-07,\n",
              "        2.41711035e-07, 7.80780539e-02, 6.21621075e-05, 2.38955341e-04,\n",
              "        1.98336929e-05, 2.83481739e-07, 3.27410447e-07, 2.56550811e-05,\n",
              "        9.69496000e-07, 4.26593142e-05, 7.74304336e-03, 3.22872103e-04,\n",
              "        4.20735925e-01, 2.42401511e-05, 1.94849799e-05, 2.17040033e-05]],\n",
              "      dtype=float32)"
            ]
          },
          "execution_count": 38,
          "metadata": {},
          "output_type": "execute_result"
        }
      ],
      "source": [
        "# Aqui estamos visualizando um array com os resultados previstos pelo modelo no conjunto de testes\n",
        "model_1_pred_probs = model_1.predict(X_test)\n",
        "model_1_pred_probs[:5]"
      ]
    },
    {
      "cell_type": "markdown",
      "metadata": {
        "id": "lJOloaWO3ZOx"
      },
      "source": [
        "O resultado que obtemos refere-se à probabilidade que o modelo pensa que o output refere-se a uma classe em particular.\n",
        "Para descobrirmos qual dessas probabilidades é maior, usamos o método argmax()"
      ]
    },
    {
      "cell_type": "code",
      "execution_count": null,
      "metadata": {
        "colab": {
          "base_uri": "https://localhost:8080/"
        },
        "id": "Kvw0knOYcGDd",
        "outputId": "cbfab2f7-33b5-41ce-ede7-2dd2ea3cb423"
      },
      "outputs": [
        {
          "data": {
            "text/plain": [
              "array([28, 17, 16])"
            ]
          },
          "execution_count": 39,
          "metadata": {},
          "output_type": "execute_result"
        }
      ],
      "source": [
        "model_1_y_preds = model_1_pred_probs.argmax(axis=1)\n",
        "\n",
        "model_1_y_preds[:3]"
      ]
    },
    {
      "cell_type": "markdown",
      "metadata": {
        "id": "tAxIB1Ht3tvg"
      },
      "source": [
        "Checamos os resultados (incluindo a acurácia pedida) na função de teste criada anteriormente"
      ]
    },
    {
      "cell_type": "code",
      "execution_count": null,
      "metadata": {
        "colab": {
          "base_uri": "https://localhost:8080/"
        },
        "id": "urpbKYn-Uj66",
        "outputId": "f7d25480-80cc-43af-b22a-c76fa6ea4747"
      },
      "outputs": [
        {
          "name": "stderr",
          "output_type": "stream",
          "text": [
            "/usr/local/lib/python3.7/dist-packages/sklearn/metrics/_classification.py:1318: UndefinedMetricWarning: Precision and F-score are ill-defined and being set to 0.0 in labels with no predicted samples. Use `zero_division` parameter to control this behavior.\n",
            "  _warn_prf(average, modifier, msg_start, len(result))\n"
          ]
        },
        {
          "data": {
            "text/plain": [
              "{'accuracy': 73.7952866690116,\n",
              " 'f1': 0.7224042494931492,\n",
              " 'precision': 0.7277049839486089,\n",
              " 'recall': 0.7379528666901161}"
            ]
          },
          "execution_count": 40,
          "metadata": {},
          "output_type": "execute_result"
        }
      ],
      "source": [
        "model_1_results = calculate_results(y_true=y_test,\n",
        "                                    y_pred=model_1_y_preds)\n",
        "model_1_results"
      ]
    },
    {
      "cell_type": "markdown",
      "metadata": {
        "id": "YIuuuMmr3z7B"
      },
      "source": [
        "Visualizamos então se nosso modelo 1 é mais preciso que o nosso modelo de base"
      ]
    },
    {
      "cell_type": "code",
      "execution_count": null,
      "metadata": {
        "colab": {
          "base_uri": "https://localhost:8080/"
        },
        "id": "_mWHbVwTcS41",
        "outputId": "2abbe6f3-cf79-4e1f-a875-26b2f8fa0558"
      },
      "outputs": [
        {
          "data": {
            "text/plain": [
              "array([ True,  True,  True,  True])"
            ]
          },
          "execution_count": 41,
          "metadata": {},
          "output_type": "execute_result"
        }
      ],
      "source": [
        "np.array(list(model_1_results.values())) > np.array(list(baseline_results.values()))"
      ]
    },
    {
      "cell_type": "code",
      "execution_count": null,
      "metadata": {
        "colab": {
          "base_uri": "https://localhost:8080/"
        },
        "id": "csu8_HaCcg1i",
        "outputId": "35667df5-1424-4a94-b817-0d0b83f4a344"
      },
      "outputs": [
        {
          "name": "stdout",
          "output_type": "stream",
          "text": [
            "Baseline accuracy: 64.26, New accuracy: 73.80, Difference: 9.54\n",
            "Baseline precision: 0.66, New precision: 0.73, Difference: 0.07\n",
            "Baseline recall: 0.64, New recall: 0.74, Difference: 0.10\n",
            "Baseline f1: 0.61, New f1: 0.72, Difference: 0.11\n"
          ]
        }
      ],
      "source": [
        "def compare_baseline_to_new_results(baseline_results, new_model_results):\n",
        "  for key, value in baseline_results.items():\n",
        "    print(f\"Baseline {key}: {value:.2f}, New {key}: {new_model_results[key]:.2f}, Difference: {new_model_results[key]-value:.2f}\")\n",
        "\n",
        "compare_baseline_to_new_results(baseline_results=baseline_results, \n",
        "                                new_model_results=model_1_results)"
      ]
    },
    {
      "cell_type": "markdown",
      "metadata": {
        "id": "C3yJWJ3adJjl"
      },
      "source": [
        "### Modelo 2 - LSTM\n",
        "\n",
        "Rede neural conhecida como Recurrent Neural Network (RNN), busca utilizar informações do passado para ajudar com as informações do futuro.\n",
        "\n",
        "Utiliza-se de uma estrutura parecida com o Modelo 1, porém adiciona-se uma camada LSTM entre o embedding e o output."
      ]
    },
    {
      "cell_type": "code",
      "execution_count": null,
      "metadata": {
        "colab": {
          "base_uri": "https://localhost:8080/"
        },
        "id": "ClZYNUCVh6PA",
        "outputId": "721a2539-00f7-4e70-aa62-1ef40d72f479"
      },
      "outputs": [
        {
          "name": "stdout",
          "output_type": "stream",
          "text": [
            "(None, 64, 128)\n",
            "(None, 64)\n"
          ]
        }
      ],
      "source": [
        "tf.random.set_seed(42)\n",
        "from tensorflow.keras import layers\n",
        "model_2_embedding = layers.Embedding(input_dim=20000,\n",
        "                                     output_dim=128,\n",
        "                                     embeddings_initializer=\"uniform\",\n",
        "                                     input_length=66,\n",
        "                                     name=\"embedding_2\")\n",
        "\n",
        "inputs = layers.Input(shape=(1,), dtype=\"string\")\n",
        "x = text_vectorizer(inputs)\n",
        "x = model_2_embedding(x)\n",
        "print(x.shape)\n",
        "x = layers.LSTM(64)(x)\n",
        "print(x.shape)\n",
        "x = layers.Dense(64, activation=\"relu\")(x)\n",
        "outputs = layers.Dense(32, activation=\"softmax\")(x)\n",
        "model_2 = tf.keras.Model(inputs, outputs, name=\"model_2_LSTM\")"
      ]
    },
    {
      "cell_type": "code",
      "execution_count": null,
      "metadata": {
        "id": "hhfITB9Nd1tc"
      },
      "outputs": [],
      "source": [
        "model_2.compile(loss=tf.keras.losses.SparseCategoricalCrossentropy(),\n",
        "                optimizer=tf.keras.optimizers.Adam(),\n",
        "                metrics=[\"accuracy\"])"
      ]
    },
    {
      "cell_type": "code",
      "execution_count": null,
      "metadata": {
        "colab": {
          "base_uri": "https://localhost:8080/"
        },
        "id": "hXjj9uRDePym",
        "outputId": "3be551d1-406e-423b-ccaa-45e3d941ffe7"
      },
      "outputs": [
        {
          "name": "stdout",
          "output_type": "stream",
          "text": [
            "Model: \"model_2_LSTM\"\n",
            "_________________________________________________________________\n",
            " Layer (type)                Output Shape              Param #   \n",
            "=================================================================\n",
            " input_2 (InputLayer)        [(None, 1)]               0         \n",
            "                                                                 \n",
            " text_vectorization (TextVec  (None, 64)               0         \n",
            " torization)                                                     \n",
            "                                                                 \n",
            " embedding_2 (Embedding)     (None, 64, 128)           2560000   \n",
            "                                                                 \n",
            " lstm (LSTM)                 (None, 64)                49408     \n",
            "                                                                 \n",
            " dense_1 (Dense)             (None, 64)                4160      \n",
            "                                                                 \n",
            " dense_2 (Dense)             (None, 32)                2080      \n",
            "                                                                 \n",
            "=================================================================\n",
            "Total params: 2,615,648\n",
            "Trainable params: 2,615,648\n",
            "Non-trainable params: 0\n",
            "_________________________________________________________________\n"
          ]
        }
      ],
      "source": [
        "model_2.summary()"
      ]
    },
    {
      "cell_type": "code",
      "execution_count": null,
      "metadata": {
        "colab": {
          "base_uri": "https://localhost:8080/"
        },
        "id": "1Stvy3FBeRJC",
        "outputId": "f2602fa5-11a8-40d7-dfcd-9921f02ddd71"
      },
      "outputs": [
        {
          "name": "stdout",
          "output_type": "stream",
          "text": [
            "Epoch 1/10\n",
            "4265/4265 [==============================] - 43s 9ms/step - loss: 1.2488 - accuracy: 0.5531 - val_loss: 0.8280 - val_accuracy: 0.7149\n",
            "Epoch 2/10\n",
            "4265/4265 [==============================] - 39s 9ms/step - loss: 0.7528 - accuracy: 0.7402 - val_loss: 0.7498 - val_accuracy: 0.7429\n",
            "Epoch 3/10\n",
            "4265/4265 [==============================] - 39s 9ms/step - loss: 0.6484 - accuracy: 0.7745 - val_loss: 0.7462 - val_accuracy: 0.7443\n",
            "Epoch 4/10\n",
            "4265/4265 [==============================] - 38s 9ms/step - loss: 0.5766 - accuracy: 0.7984 - val_loss: 0.7926 - val_accuracy: 0.7402\n",
            "Epoch 5/10\n",
            "4265/4265 [==============================] - 39s 9ms/step - loss: 0.5145 - accuracy: 0.8192 - val_loss: 0.8335 - val_accuracy: 0.7344\n",
            "Epoch 6/10\n",
            "4265/4265 [==============================] - 38s 9ms/step - loss: 0.4586 - accuracy: 0.8371 - val_loss: 0.9061 - val_accuracy: 0.7297\n",
            "Epoch 7/10\n",
            "4265/4265 [==============================] - 38s 9ms/step - loss: 0.4105 - accuracy: 0.8546 - val_loss: 1.0026 - val_accuracy: 0.7204\n",
            "Epoch 8/10\n",
            "4265/4265 [==============================] - 39s 9ms/step - loss: 0.3732 - accuracy: 0.8672 - val_loss: 1.1393 - val_accuracy: 0.7181\n",
            "Epoch 9/10\n",
            "4265/4265 [==============================] - 38s 9ms/step - loss: 0.3413 - accuracy: 0.8772 - val_loss: 1.2250 - val_accuracy: 0.7154\n",
            "Epoch 10/10\n",
            "4265/4265 [==============================] - 39s 9ms/step - loss: 0.3169 - accuracy: 0.8860 - val_loss: 1.3655 - val_accuracy: 0.7098\n"
          ]
        }
      ],
      "source": [
        "model_2_history = model_2.fit(X_train, y_train, epochs=10, validation_data=(X_test, y_test))"
      ]
    },
    {
      "cell_type": "code",
      "execution_count": null,
      "metadata": {
        "colab": {
          "base_uri": "https://localhost:8080/"
        },
        "id": "MOnTfqsBegIy",
        "outputId": "ca233447-f342-40de-881a-7d02f9988627"
      },
      "outputs": [
        {
          "data": {
            "text/plain": [
              "((34116, 32),\n",
              " array([[1.08873238e-24, 5.18046537e-21, 2.37133566e-30, 2.93857141e-07,\n",
              "         1.63131075e-12, 1.25987341e-07, 3.40856730e-08, 6.11036280e-16,\n",
              "         3.62371622e-09, 6.50942812e-26, 1.64713630e-17, 2.37245295e-34,\n",
              "         2.06275023e-25, 9.13503465e-37, 6.33213710e-32, 2.41884176e-32,\n",
              "         9.16742932e-11, 8.01205933e-01, 1.45485254e-16, 2.03125896e-17,\n",
              "         5.68549696e-09, 1.01248938e-33, 4.15493495e-32, 9.09386419e-23,\n",
              "         5.92265842e-24, 4.46933197e-22, 1.90041316e-11, 2.41131182e-12,\n",
              "         1.98793530e-01, 7.83369273e-15, 5.04616156e-19, 7.56944958e-16],\n",
              "        [8.84865636e-21, 2.97111207e-24, 2.70050353e-26, 9.71606823e-06,\n",
              "         4.81812160e-17, 6.51802397e-13, 2.43743216e-07, 8.15570158e-24,\n",
              "         1.65172487e-09, 2.13115052e-22, 2.46063743e-19, 1.17909676e-26,\n",
              "         3.46175634e-24, 1.19177289e-32, 3.87229094e-20, 2.99600908e-35,\n",
              "         2.13611923e-11, 9.99989867e-01, 9.23552435e-09, 3.19092283e-15,\n",
              "         4.88441275e-12, 1.25137089e-32, 1.41505705e-14, 1.59975137e-26,\n",
              "         1.26563080e-37, 1.23680901e-20, 8.62853693e-14, 6.31180733e-11,\n",
              "         6.59301165e-08, 7.93454048e-15, 7.32062723e-25, 8.59815151e-16],\n",
              "        [1.27048679e-07, 4.72886168e-05, 2.79664204e-13, 3.47132259e-03,\n",
              "         7.98978144e-05, 6.73081772e-03, 2.18789155e-05, 3.30809131e-03,\n",
              "         4.92782647e-06, 2.54463603e-11, 1.91963863e-05, 1.59489240e-17,\n",
              "         3.83806264e-06, 4.66887897e-08, 3.12304183e-09, 7.03501605e-15,\n",
              "         9.56450582e-01, 9.68826876e-04, 2.93802368e-05, 3.91614122e-07,\n",
              "         5.69660479e-05, 2.69908287e-06, 2.02058567e-22, 2.44456260e-08,\n",
              "         2.80627974e-05, 3.48439906e-03, 2.16764044e-02, 1.30351606e-11,\n",
              "         3.29634780e-03, 2.31044978e-04, 3.31488736e-05, 5.43398601e-05]],\n",
              "       dtype=float32))"
            ]
          },
          "execution_count": 47,
          "metadata": {},
          "output_type": "execute_result"
        }
      ],
      "source": [
        "model_2_pred_probs = model_2.predict(X_test)\n",
        "model_2_pred_probs.shape, model_2_pred_probs[:3]"
      ]
    },
    {
      "cell_type": "code",
      "execution_count": null,
      "metadata": {
        "id": "UEXzlshvqGsw"
      },
      "outputs": [],
      "source": [
        "model_2_preds = model_2_pred_probs.argmax(axis=1)"
      ]
    },
    {
      "cell_type": "code",
      "execution_count": null,
      "metadata": {
        "colab": {
          "base_uri": "https://localhost:8080/"
        },
        "id": "LXmVSxaBpUPr",
        "outputId": "647bb0a7-a96d-40e3-8773-2bc7c5e12975"
      },
      "outputs": [
        {
          "name": "stderr",
          "output_type": "stream",
          "text": [
            "/usr/local/lib/python3.7/dist-packages/sklearn/metrics/_classification.py:1318: UndefinedMetricWarning: Precision and F-score are ill-defined and being set to 0.0 in labels with no predicted samples. Use `zero_division` parameter to control this behavior.\n",
            "  _warn_prf(average, modifier, msg_start, len(result))\n"
          ]
        },
        {
          "data": {
            "text/plain": [
              "{'accuracy': 70.97842654472974,\n",
              " 'f1': 0.7017357588359152,\n",
              " 'precision': 0.701291033931292,\n",
              " 'recall': 0.7097842654472974}"
            ]
          },
          "execution_count": 49,
          "metadata": {},
          "output_type": "execute_result"
        }
      ],
      "source": [
        "model_2_results = calculate_results(y_true=y_test,\n",
        "                                    y_pred=model_2_preds)\n",
        "model_2_results"
      ]
    },
    {
      "cell_type": "code",
      "execution_count": null,
      "metadata": {
        "colab": {
          "base_uri": "https://localhost:8080/"
        },
        "id": "68jLrw13psjk",
        "outputId": "72c44c6f-ab85-4f92-8c2d-a6b4cb34df45"
      },
      "outputs": [
        {
          "name": "stdout",
          "output_type": "stream",
          "text": [
            "Baseline accuracy: 64.26, New accuracy: 70.98, Difference: 6.72\n",
            "Baseline precision: 0.66, New precision: 0.70, Difference: 0.04\n",
            "Baseline recall: 0.64, New recall: 0.71, Difference: 0.07\n",
            "Baseline f1: 0.61, New f1: 0.70, Difference: 0.09\n"
          ]
        }
      ],
      "source": [
        "compare_baseline_to_new_results(baseline_results, model_2_results)"
      ]
    },
    {
      "cell_type": "markdown",
      "metadata": {
        "id": "U0BNQwbPqYKd"
      },
      "source": [
        "### Modelo 3: GRU\n",
        "\n",
        "Outra forma de se utilizar de RNN. Difere-se do modelo LSTM no sentido que utiliza-se de menos parâmetros (ao invés de uma camada LSTM, utiliza-se de uma camada GRU)."
      ]
    },
    {
      "cell_type": "code",
      "execution_count": null,
      "metadata": {
        "id": "LpJsIgqsqSzb"
      },
      "outputs": [],
      "source": [
        "tf.random.set_seed(42)\n",
        "from tensorflow.keras import layers\n",
        "model_3_embedding = layers.Embedding(input_dim=10000,\n",
        "                                     output_dim=128,\n",
        "                                     embeddings_initializer=\"uniform\",\n",
        "                                     input_length=66,\n",
        "                                     name=\"embedding_3\")\n",
        "\n",
        "inputs = layers.Input(shape=(1,), dtype=\"string\")\n",
        "x = text_vectorizer(inputs)\n",
        "x = model_3_embedding(x)\n",
        "x = layers.GRU(64)(x)\n",
        "x = layers.Dense(64, activation=\"relu\")(x)\n",
        "outputs = layers.Dense(32, activation=\"softmax\")(x)\n",
        "model_3 = tf.keras.Model(inputs, outputs, name=\"model_3_GRU\")"
      ]
    },
    {
      "cell_type": "code",
      "execution_count": null,
      "metadata": {
        "id": "MGmih7H0q3CO"
      },
      "outputs": [],
      "source": [
        "model_3.compile(loss=tf.keras.losses.SparseCategoricalCrossentropy(),\n",
        "                optimizer=tf.keras.optimizers.Adam(),\n",
        "                metrics=[\"accuracy\"])"
      ]
    },
    {
      "cell_type": "code",
      "execution_count": null,
      "metadata": {
        "colab": {
          "base_uri": "https://localhost:8080/"
        },
        "id": "qz02NtlyrBra",
        "outputId": "ad1c80c9-00c0-48a0-8142-cdeb33d977fe"
      },
      "outputs": [
        {
          "name": "stdout",
          "output_type": "stream",
          "text": [
            "Model: \"model_3_GRU\"\n",
            "_________________________________________________________________\n",
            " Layer (type)                Output Shape              Param #   \n",
            "=================================================================\n",
            " input_3 (InputLayer)        [(None, 1)]               0         \n",
            "                                                                 \n",
            " text_vectorization (TextVec  (None, 64)               0         \n",
            " torization)                                                     \n",
            "                                                                 \n",
            " embedding_3 (Embedding)     (None, 64, 128)           1280000   \n",
            "                                                                 \n",
            " gru (GRU)                   (None, 64)                37248     \n",
            "                                                                 \n",
            " dense_3 (Dense)             (None, 64)                4160      \n",
            "                                                                 \n",
            " dense_4 (Dense)             (None, 32)                2080      \n",
            "                                                                 \n",
            "=================================================================\n",
            "Total params: 1,323,488\n",
            "Trainable params: 1,323,488\n",
            "Non-trainable params: 0\n",
            "_________________________________________________________________\n"
          ]
        }
      ],
      "source": [
        "model_3.summary()"
      ]
    },
    {
      "cell_type": "code",
      "execution_count": null,
      "metadata": {
        "colab": {
          "background_save": true,
          "base_uri": "https://localhost:8080/"
        },
        "id": "jf4hRR-KrC9P",
        "outputId": "a4b45495-0fc5-470f-f923-0f94a518026d"
      },
      "outputs": [
        {
          "name": "stdout",
          "output_type": "stream",
          "text": [
            "Epoch 1/10\n",
            "4265/4265 [==============================] - 39s 9ms/step - loss: 0.9961 - accuracy: 0.6549 - val_loss: 0.7579 - val_accuracy: 0.7371\n",
            "Epoch 2/10\n",
            "4265/4265 [==============================] - 37s 9ms/step - loss: 0.7035 - accuracy: 0.7549 - val_loss: 0.7225 - val_accuracy: 0.7486\n",
            "Epoch 3/10\n",
            "4265/4265 [==============================] - 37s 9ms/step - loss: 0.6375 - accuracy: 0.7750 - val_loss: 0.7271 - val_accuracy: 0.7469\n",
            "Epoch 4/10\n",
            "4265/4265 [==============================] - 36s 8ms/step - loss: 0.5835 - accuracy: 0.7941 - val_loss: 0.7720 - val_accuracy: 0.7408\n",
            "Epoch 5/10\n",
            "4265/4265 [==============================] - 36s 8ms/step - loss: 0.5315 - accuracy: 0.8106 - val_loss: 0.8060 - val_accuracy: 0.7370\n",
            "Epoch 6/10\n",
            "4265/4265 [==============================] - 37s 9ms/step - loss: 0.4811 - accuracy: 0.8283 - val_loss: 0.8648 - val_accuracy: 0.7312\n",
            "Epoch 7/10\n",
            "4265/4265 [==============================] - 35s 8ms/step - loss: 0.4324 - accuracy: 0.8455 - val_loss: 0.9392 - val_accuracy: 0.7227\n",
            "Epoch 8/10\n",
            "4265/4265 [==============================] - 35s 8ms/step - loss: 0.3903 - accuracy: 0.8608 - val_loss: 1.0546 - val_accuracy: 0.7227\n",
            "Epoch 9/10\n",
            "4265/4265 [==============================] - 36s 9ms/step - loss: 0.3565 - accuracy: 0.8720 - val_loss: 1.1508 - val_accuracy: 0.7185\n",
            "Epoch 10/10\n",
            "4265/4265 [==============================] - 37s 9ms/step - loss: 0.3285 - accuracy: 0.8823 - val_loss: 1.2654 - val_accuracy: 0.7107\n"
          ]
        }
      ],
      "source": [
        "model_3_history = model_3.fit(X_train, y_train, epochs=10, validation_data=(X_test, y_test))"
      ]
    },
    {
      "cell_type": "code",
      "execution_count": null,
      "metadata": {
        "colab": {
          "background_save": true
        },
        "id": "wwoSKdx_rP0C",
        "outputId": "a7b7a7b4-f360-469d-8199-4bbf56fe7ad6"
      },
      "outputs": [
        {
          "data": {
            "text/plain": [
              "((34116, 32),\n",
              " array([[4.4367891e-23, 4.4341460e-17, 3.7328547e-26, 1.4539005e-07,\n",
              "         9.3232482e-16, 1.2275220e-05, 9.8403927e-04, 4.6133930e-05,\n",
              "         2.2682132e-12, 5.5413578e-24, 6.9200241e-16, 1.5164555e-31,\n",
              "         1.4376014e-19, 0.0000000e+00, 9.2274097e-36, 0.0000000e+00,\n",
              "         5.9088599e-08, 2.6005777e-02, 7.7813461e-15, 3.6792456e-19,\n",
              "         3.0054920e-11, 0.0000000e+00, 2.3002951e-28, 2.6881565e-22,\n",
              "         2.1671030e-20, 1.6752270e-20, 9.5519670e-10, 7.8010009e-07,\n",
              "         9.7295076e-01, 8.9744531e-11, 1.0361437e-14, 2.3274639e-13],\n",
              "        [3.4114275e-18, 1.7061790e-17, 3.1206681e-31, 2.0577502e-06,\n",
              "         9.8631102e-21, 2.9470876e-08, 6.3651053e-09, 1.5231226e-15,\n",
              "         2.2610414e-12, 1.0593069e-30, 1.8422746e-16, 0.0000000e+00,\n",
              "         6.0257088e-19, 0.0000000e+00, 2.3742889e-30, 0.0000000e+00,\n",
              "         5.2570615e-11, 9.9999762e-01, 3.1311752e-15, 2.3652938e-15,\n",
              "         3.1414046e-15, 0.0000000e+00, 1.0789817e-21, 7.7903723e-22,\n",
              "         1.1911719e-34, 7.4995908e-22, 4.5223377e-11, 7.1095514e-14,\n",
              "         1.8243709e-07, 2.2105527e-12, 9.5997470e-20, 4.1552921e-15],\n",
              "        [3.2616512e-08, 1.9440915e-04, 4.6501843e-12, 3.3709414e-02,\n",
              "         7.8913006e-05, 5.3875870e-03, 1.1611081e-04, 3.4722056e-02,\n",
              "         1.8994722e-05, 2.4868811e-12, 3.0234913e-04, 2.2992160e-13,\n",
              "         6.5009204e-05, 1.6867144e-09, 1.5534896e-08, 3.2848421e-17,\n",
              "         7.0401472e-01, 2.3951225e-03, 2.1257099e-05, 3.6371396e-06,\n",
              "         2.5824396e-04, 3.1529754e-10, 1.8105662e-22, 1.0812457e-07,\n",
              "         1.0052703e-04, 2.1609424e-03, 5.6025762e-02, 6.0639977e-09,\n",
              "         1.5964937e-01, 2.8319200e-04, 5.4187978e-05, 4.3796323e-04]],\n",
              "       dtype=float32))"
            ]
          },
          "execution_count": null,
          "metadata": {},
          "output_type": "execute_result"
        }
      ],
      "source": [
        "model_3_pred_probs = model_3.predict(X_test)\n",
        "model_3_pred_probs.shape, model_3_pred_probs[:3]"
      ]
    },
    {
      "cell_type": "code",
      "execution_count": null,
      "metadata": {
        "colab": {
          "background_save": true
        },
        "id": "F9np4uU61CSf"
      },
      "outputs": [],
      "source": [
        "model_3_preds = model_3_pred_probs.argmax(axis=1)"
      ]
    },
    {
      "cell_type": "code",
      "execution_count": null,
      "metadata": {
        "colab": {
          "background_save": true
        },
        "id": "k72Rkuv61GBR",
        "outputId": "753eca9a-9a29-4170-b8c6-ac50df4e86a8"
      },
      "outputs": [
        {
          "name": "stderr",
          "output_type": "stream",
          "text": [
            "/usr/local/lib/python3.7/dist-packages/sklearn/metrics/_classification.py:1318: UndefinedMetricWarning: Precision and F-score are ill-defined and being set to 0.0 in labels with no predicted samples. Use `zero_division` parameter to control this behavior.\n",
            "  _warn_prf(average, modifier, msg_start, len(result))\n"
          ]
        },
        {
          "data": {
            "text/plain": [
              "{'accuracy': 71.07222417633955,\n",
              " 'f1': 0.7019220375783639,\n",
              " 'precision': 0.6997085062755944,\n",
              " 'recall': 0.7107222417633955}"
            ]
          },
          "execution_count": null,
          "metadata": {},
          "output_type": "execute_result"
        }
      ],
      "source": [
        "model_3_results = calculate_results(y_true=y_test,\n",
        "                                    y_pred=model_3_preds)\n",
        "model_3_results"
      ]
    },
    {
      "cell_type": "code",
      "execution_count": null,
      "metadata": {
        "colab": {
          "background_save": true
        },
        "id": "45Py2MQ11MhE",
        "outputId": "0a9c6a8b-36e7-4fad-cb90-f558bff93404"
      },
      "outputs": [
        {
          "name": "stdout",
          "output_type": "stream",
          "text": [
            "Baseline accuracy: 64.26, New accuracy: 71.07, Difference: 6.81\n",
            "Baseline precision: 0.66, New precision: 0.70, Difference: 0.04\n",
            "Baseline recall: 0.64, New recall: 0.71, Difference: 0.07\n",
            "Baseline f1: 0.61, New f1: 0.70, Difference: 0.09\n"
          ]
        }
      ],
      "source": [
        "compare_baseline_to_new_results(baseline_results, model_3_results)"
      ]
    },
    {
      "cell_type": "markdown",
      "metadata": {
        "id": "O7RO_hz17I7Q"
      },
      "source": [
        "## Comparação entre modelos\n",
        "\n",
        "Com todos modelos já avaliados individualmente e comparados com o modelo de base, vamos então fazer uma comparação entre todos os modelos."
      ]
    },
    {
      "cell_type": "code",
      "execution_count": null,
      "metadata": {
        "colab": {
          "background_save": true
        },
        "id": "0dALWQwfND3Z",
        "outputId": "3f502ad3-4a7e-4143-8715-f8bba5ecf412"
      },
      "outputs": [
        {
          "data": {
            "text/html": [
              "\n",
              "  <div id=\"df-735a0842-90d6-4a31-a16f-8e91a6045ad5\">\n",
              "    <div class=\"colab-df-container\">\n",
              "      <div>\n",
              "<style scoped>\n",
              "    .dataframe tbody tr th:only-of-type {\n",
              "        vertical-align: middle;\n",
              "    }\n",
              "\n",
              "    .dataframe tbody tr th {\n",
              "        vertical-align: top;\n",
              "    }\n",
              "\n",
              "    .dataframe thead th {\n",
              "        text-align: right;\n",
              "    }\n",
              "</style>\n",
              "<table border=\"1\" class=\"dataframe\">\n",
              "  <thead>\n",
              "    <tr style=\"text-align: right;\">\n",
              "      <th></th>\n",
              "      <th>accuracy</th>\n",
              "      <th>precision</th>\n",
              "      <th>recall</th>\n",
              "      <th>f1</th>\n",
              "    </tr>\n",
              "  </thead>\n",
              "  <tbody>\n",
              "    <tr>\n",
              "      <th>baseline</th>\n",
              "      <td>64.257240</td>\n",
              "      <td>0.658069</td>\n",
              "      <td>0.642572</td>\n",
              "      <td>0.611329</td>\n",
              "    </tr>\n",
              "    <tr>\n",
              "      <th>simple_dense</th>\n",
              "      <td>73.795287</td>\n",
              "      <td>0.727705</td>\n",
              "      <td>0.737953</td>\n",
              "      <td>0.722404</td>\n",
              "    </tr>\n",
              "    <tr>\n",
              "      <th>lstm</th>\n",
              "      <td>70.978427</td>\n",
              "      <td>0.701291</td>\n",
              "      <td>0.709784</td>\n",
              "      <td>0.701736</td>\n",
              "    </tr>\n",
              "    <tr>\n",
              "      <th>gru</th>\n",
              "      <td>71.072224</td>\n",
              "      <td>0.699709</td>\n",
              "      <td>0.710722</td>\n",
              "      <td>0.701922</td>\n",
              "    </tr>\n",
              "  </tbody>\n",
              "</table>\n",
              "</div>\n",
              "      <button class=\"colab-df-convert\" onclick=\"convertToInteractive('df-735a0842-90d6-4a31-a16f-8e91a6045ad5')\"\n",
              "              title=\"Convert this dataframe to an interactive table.\"\n",
              "              style=\"display:none;\">\n",
              "        \n",
              "  <svg xmlns=\"http://www.w3.org/2000/svg\" height=\"24px\"viewBox=\"0 0 24 24\"\n",
              "       width=\"24px\">\n",
              "    <path d=\"M0 0h24v24H0V0z\" fill=\"none\"/>\n",
              "    <path d=\"M18.56 5.44l.94 2.06.94-2.06 2.06-.94-2.06-.94-.94-2.06-.94 2.06-2.06.94zm-11 1L8.5 8.5l.94-2.06 2.06-.94-2.06-.94L8.5 2.5l-.94 2.06-2.06.94zm10 10l.94 2.06.94-2.06 2.06-.94-2.06-.94-.94-2.06-.94 2.06-2.06.94z\"/><path d=\"M17.41 7.96l-1.37-1.37c-.4-.4-.92-.59-1.43-.59-.52 0-1.04.2-1.43.59L10.3 9.45l-7.72 7.72c-.78.78-.78 2.05 0 2.83L4 21.41c.39.39.9.59 1.41.59.51 0 1.02-.2 1.41-.59l7.78-7.78 2.81-2.81c.8-.78.8-2.07 0-2.86zM5.41 20L4 18.59l7.72-7.72 1.47 1.35L5.41 20z\"/>\n",
              "  </svg>\n",
              "      </button>\n",
              "      \n",
              "  <style>\n",
              "    .colab-df-container {\n",
              "      display:flex;\n",
              "      flex-wrap:wrap;\n",
              "      gap: 12px;\n",
              "    }\n",
              "\n",
              "    .colab-df-convert {\n",
              "      background-color: #E8F0FE;\n",
              "      border: none;\n",
              "      border-radius: 50%;\n",
              "      cursor: pointer;\n",
              "      display: none;\n",
              "      fill: #1967D2;\n",
              "      height: 32px;\n",
              "      padding: 0 0 0 0;\n",
              "      width: 32px;\n",
              "    }\n",
              "\n",
              "    .colab-df-convert:hover {\n",
              "      background-color: #E2EBFA;\n",
              "      box-shadow: 0px 1px 2px rgba(60, 64, 67, 0.3), 0px 1px 3px 1px rgba(60, 64, 67, 0.15);\n",
              "      fill: #174EA6;\n",
              "    }\n",
              "\n",
              "    [theme=dark] .colab-df-convert {\n",
              "      background-color: #3B4455;\n",
              "      fill: #D2E3FC;\n",
              "    }\n",
              "\n",
              "    [theme=dark] .colab-df-convert:hover {\n",
              "      background-color: #434B5C;\n",
              "      box-shadow: 0px 1px 3px 1px rgba(0, 0, 0, 0.15);\n",
              "      filter: drop-shadow(0px 1px 2px rgba(0, 0, 0, 0.3));\n",
              "      fill: #FFFFFF;\n",
              "    }\n",
              "  </style>\n",
              "\n",
              "      <script>\n",
              "        const buttonEl =\n",
              "          document.querySelector('#df-735a0842-90d6-4a31-a16f-8e91a6045ad5 button.colab-df-convert');\n",
              "        buttonEl.style.display =\n",
              "          google.colab.kernel.accessAllowed ? 'block' : 'none';\n",
              "\n",
              "        async function convertToInteractive(key) {\n",
              "          const element = document.querySelector('#df-735a0842-90d6-4a31-a16f-8e91a6045ad5');\n",
              "          const dataTable =\n",
              "            await google.colab.kernel.invokeFunction('convertToInteractive',\n",
              "                                                     [key], {});\n",
              "          if (!dataTable) return;\n",
              "\n",
              "          const docLinkHtml = 'Like what you see? Visit the ' +\n",
              "            '<a target=\"_blank\" href=https://colab.research.google.com/notebooks/data_table.ipynb>data table notebook</a>'\n",
              "            + ' to learn more about interactive tables.';\n",
              "          element.innerHTML = '';\n",
              "          dataTable['output_type'] = 'display_data';\n",
              "          await google.colab.output.renderOutput(dataTable, element);\n",
              "          const docLink = document.createElement('div');\n",
              "          docLink.innerHTML = docLinkHtml;\n",
              "          element.appendChild(docLink);\n",
              "        }\n",
              "      </script>\n",
              "    </div>\n",
              "  </div>\n",
              "  "
            ],
            "text/plain": [
              "               accuracy  precision    recall        f1\n",
              "baseline      64.257240   0.658069  0.642572  0.611329\n",
              "simple_dense  73.795287   0.727705  0.737953  0.722404\n",
              "lstm          70.978427   0.701291  0.709784  0.701736\n",
              "gru           71.072224   0.699709  0.710722  0.701922"
            ]
          },
          "execution_count": null,
          "metadata": {},
          "output_type": "execute_result"
        }
      ],
      "source": [
        "all_model_results = pd.DataFrame({\"baseline\": baseline_results,\n",
        "                                  \"simple_dense\": model_1_results,\n",
        "                                  \"lstm\": model_2_results,\n",
        "                                  \"gru\": model_3_results,})\n",
        "all_model_results = all_model_results.transpose()\n",
        "all_model_results"
      ]
    },
    {
      "cell_type": "code",
      "execution_count": null,
      "metadata": {
        "colab": {
          "background_save": true
        },
        "id": "L28eWiGNNePR"
      },
      "outputs": [],
      "source": [
        "all_model_results[\"accuracy\"] = all_model_results[\"accuracy\"]/100 # Escalando a acurácia para valores parecdos de precisão, recall e f1"
      ]
    },
    {
      "cell_type": "code",
      "execution_count": null,
      "metadata": {
        "colab": {
          "background_save": true
        },
        "id": "Hp8ZRS3u7Gsq",
        "outputId": "1293e69b-4b46-44a4-dd0d-3bace971fd33"
      },
      "outputs": [
        {
          "data": {
            "image/png": "[encoded data removed]",
            "text/plain": [
              "<Figure size 720x504 with 1 Axes>"
            ]
          },
          "metadata": {},
          "output_type": "display_data"
        }
      ],
      "source": [
        "all_model_results.plot(kind=\"bar\", figsize=(10, 7)).legend(bbox_to_anchor=(1.0, 1.0));"
      ]
    },
    {
      "cell_type": "markdown",
      "metadata": {
        "id": "qNvzxT9R7c2e"
      },
      "source": [
        "## Resultado final: Modelo 1 - Simple_dense\n",
        "\n",
        "O modelo 1 adquiriu uma acurácia de 73% (0.73), sendo a mais alta comparado aos outros. Vamos melhor observar os resultados encontrados pelo modelo.\n",
        "\n",
        "Função **accuracy_score** da SKLEARN para avaliar o modelo:"
      ]
    },
    {
      "cell_type": "code",
      "execution_count": null,
      "metadata": {
        "colab": {
          "background_save": true
        },
        "id": "drvxGbvKKRhN",
        "outputId": "909c42e5-44fa-4850-9c16-3808ae68b75c"
      },
      "outputs": [
        {
          "name": "stdout",
          "output_type": "stream",
          "text": [
            "O melhor modelo possui uma nota de corte de: 0.7379528666901161\n"
          ]
        }
      ],
      "source": [
        "final_model_accuracy = accuracy_score(y_test, model_1_y_preds)\n",
        "print(f\"O melhor modelo possui uma nota de corte de: {final_model_accuracy}\")"
      ]
    },
    {
      "cell_type": "markdown",
      "metadata": {
        "id": "owZw3Zh7bH8h"
      },
      "source": [
        "Abaixo estamos criando uma confusion_matrix para visualizarmos os resultados obtido. Helper-function obtida no curso [TensorFlow Developer Certificate](https://www.udemy.com/course/tensorflow-developer-certificate-machine-learning-zero-to-mastery/)."
      ]
    },
    {
      "cell_type": "code",
      "execution_count": null,
      "metadata": {
        "colab": {
          "background_save": true
        },
        "id": "VksxDK947Zei"
      },
      "outputs": [],
      "source": [
        "import itertools\n",
        "from sklearn.metrics import confusion_matrix\n",
        "\n",
        "def make_confusion_matrix(y_true, y_pred, classes=None, figsize=(10,10), text_size=15):\n",
        "  # Confusion matrix\n",
        "  cm = confusion_matrix(y_true, y_pred)\n",
        "  cm_norm = cm.astype(\"float\") / cm.sum(axis=1)[:, np.newaxis]\n",
        "  n_classes = cm.shape[0]\n",
        "\n",
        "  fig, ax = plt.subplots(figsize=figsize)\n",
        "  cax = ax.matshow(cm, cmap=plt.cm.Blues)\n",
        "  fig.colorbar(cax)\n",
        "\n",
        "  if classes:\n",
        "    labels = classes\n",
        "  else:\n",
        "    labels = np.arange(cm.shape[0])\n",
        "\n",
        "  ax.set(title=\"Confusion Matrix\",\n",
        "          xlabel=\"Predicted Label\",\n",
        "          ylabel=\"True Label\",\n",
        "          xticks=np.arange(n_classes),\n",
        "          yticks=np.arange(n_classes),\n",
        "          xticklabels=labels,\n",
        "          yticklabels=labels)\n",
        "  \n",
        "  ax.yaxis.label.set_size(text_size)\n",
        "  ax.xaxis.label.set_size(text_size)\n",
        "  ax.title.set_size(text_size)\n",
        "\n",
        "  threshold = (cm.max() + cm.min()) / 2.\n",
        "\n",
        "  for i, j in itertools.product(range(cm.shape[0]), range(cm.shape[1])):\n",
        "    plt.text(j, i, f\"{cm[i, j]} ({cm_norm[i, j]*100:.1f}%)\",\n",
        "             horizontalalignment=\"center\",\n",
        "             color=\"white\" if cm[i, j] > threshold else \"black\",\n",
        "             size=text_size)"
      ]
    },
    {
      "cell_type": "code",
      "execution_count": null,
      "metadata": {
        "colab": {
          "background_save": true
        },
        "id": "hrn_j_pFkrbe",
        "outputId": "1873cc75-8874-456f-a3b7-c6e160579cc3"
      },
      "outputs": [
        {
          "data": {
            "image/png": "[encoded data removed]",
            "text/plain": [
              "<Figure size 1440x1440 with 2 Axes>"
            ]
          },
          "metadata": {},
          "output_type": "display_data"
        }
      ],
      "source": [
        "make_confusion_matrix(y_true=y_test[:100],y_pred=model_1_y_preds[:100], figsize=(20,20))"
      ]
    },
    {
      "cell_type": "markdown",
      "metadata": {
        "id": "Hq94hCnIT6nD"
      },
      "source": [
        "## Função Validate"
      ]
    },
    {
      "cell_type": "code",
      "execution_count": null,
      "metadata": {
        "colab": {
          "background_save": true
        },
        "id": "O07pQcA17_70"
      },
      "outputs": [],
      "source": [
        "def validate(df_without_product_category, model=model_1):\n",
        "  df_with_product_category = df_without_product_category\n",
        "\n",
        "  x_tests = df_without_product_category['review_body']\n",
        "  x_tests.dropna()\n",
        "  x_cleaned = x_tests.apply(cleaned1)\n",
        "  model_result = model_1.predict(x_cleaned)\n",
        "  model_result_preds = model_result.argmax(axis=1)\n",
        "  predictions_test = label_encoder.inverse_transform(model_result_preds)\n",
        "  df_with_product_category['product_category'] = predictions_test\n",
        "\n",
        "  return df_with_product_category"
      ]
    },
    {
      "cell_type": "code",
      "execution_count": null,
      "metadata": {
        "colab": {
          "background_save": true
        },
        "id": "Ncvhh1e7lLGG"
      },
      "outputs": [],
      "source": [
        ""
      ]
    },
    {
      "cell_type": "markdown",
      "metadata": {
        "id": "93qHLOgzZvkc"
      },
      "source": [
        "## Considerações Finais\n",
        "\n",
        "Nos modelos com menor acurácia (onde foi mais perceptível) conseguimos ver um aumento maior na acurácia no conjunto de treino, durante as epochs, porém uma diminuição na acurácia durante o conjunto de testes o que indica um possível **overfitting** por parte de nossos modelos.\n",
        "\n",
        "Para buscarmos solucionar isso podemos realizar:\n",
        "*   Uma melhor e mais detalhada análise nos dados (Como por exemplo considerar apenas as reviews consideradas helpful)\n",
        "*   Ajustes nos próprios modelos - adicionar ou remover alguma camada, mudança de alguma função de ativação ou de loss, mudança no learning rate, etc.\n",
        "*   Melhorias no processo de transformar as palavras em tokens e tokens em embedding, além da quantidade de tokens usados nos modelos."
      ]
    }
  ],
  "metadata": {
    "accelerator": "GPU",
    "colab": {
      "collapsed_sections": [],
      "name": "nlp_desafio.ipynb",
      "toc_visible": true,
      "provenance": [],
      "include_colab_link": true
    },
    "gpuClass": "standard",
    "kernelspec": {
      "display_name": "Python 3",
      "name": "python3"
    },
    "language_info": {
      "name": "python"
    }
  },
  "nbformat": 4,
  "nbformat_minor": 0
}